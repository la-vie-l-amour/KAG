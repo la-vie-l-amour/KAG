{
 "cells": [
  {
   "cell_type": "markdown",
   "metadata": {},
   "source": [
    "# 数据读取"
   ]
  },
  {
   "cell_type": "code",
   "execution_count": null,
   "metadata": {},
   "outputs": [],
   "source": []
  },
  {
   "cell_type": "code",
   "execution_count": 1,
   "metadata": {},
   "outputs": [],
   "source": [
    "import json \n",
    "file_path = \"/data/zxx/KAG/kag/examples/hotpotqa/builder/data/hotpotqa_corpus.json\"\n",
    "\n",
    "with open(file_path, \"r\") as file:\n",
    "    corpus = json.load(file)"
   ]
  },
  {
   "cell_type": "code",
   "execution_count": null,
   "metadata": {},
   "outputs": [],
   "source": [
    "qa_file = \"/data/zxx/KAG/kag/examples/hotpotqa/solver/data/hotpotqa_qa.json\"\n",
    "with open(file_path, \"r\") as file:\n",
    "    corpus = json.load(qa_file)"
   ]
  },
  {
   "cell_type": "code",
   "execution_count": 2,
   "metadata": {},
   "outputs": [
    {
     "data": {
      "text/plain": [
       "9221"
      ]
     },
     "execution_count": 2,
     "metadata": {},
     "output_type": "execute_result"
    }
   ],
   "source": [
    "len(corpus.keys())"
   ]
  },
  {
   "cell_type": "code",
   "execution_count": 2,
   "metadata": {},
   "outputs": [],
   "source": [
    "import json\n",
    "\n",
    "file_path = \"./solver/hotpotqa_res_1743049984.243173.json\"\n",
    "\n",
    "with open(file_path, \"r\") as file:\n",
    "    data = json.load(file)"
   ]
  },
  {
   "cell_type": "code",
   "execution_count": 5,
   "metadata": {},
   "outputs": [],
   "source": [
    "# 预处理，有一些回答是没有prediction的，所以去掉，因为执行过程中报错，之后再分析这些报错的问题\n",
    "data_error = []\n",
    "data_process = []\n",
    "for i, item in enumerate(data):\n",
    "    if 'prediction' in item.keys():\n",
    "        data_process.append(item)\n",
    "    else:\n",
    "        data_error.append([i,item])"
   ]
  },
  {
   "cell_type": "code",
   "execution_count": 147,
   "metadata": {},
   "outputs": [
    {
     "data": {
      "text/plain": [
       "'The Grieg crater is named for a Norwegian composer who composed during what era?'"
      ]
     },
     "execution_count": 147,
     "metadata": {},
     "output_type": "execute_result"
    }
   ],
   "source": [
    "data_error[3][1]['question']"
   ]
  },
  {
   "cell_type": "code",
   "execution_count": 135,
   "metadata": {},
   "outputs": [
    {
     "data": {
      "text/plain": [
       "[['Eugen von Lommel', 0],\n",
       " ['Eugen von Lommel', 1],\n",
       " ['Eugen von Lommel', 2],\n",
       " ['Johannes Stark', 0],\n",
       " ['Johannes Stark', 1]]"
      ]
     },
     "execution_count": 135,
     "metadata": {},
     "output_type": "execute_result"
    }
   ],
   "source": [
    "data[89]['supporting_facts']"
   ]
  },
  {
   "cell_type": "code",
   "execution_count": 137,
   "metadata": {},
   "outputs": [
    {
     "data": {
      "text/plain": [
       "['#Rainer Forst#Rainer Forst\\nRainer Forst (born August 15, 1964, Wiesbaden) is a German philosopher and political theorist, and was named the \"most important political philosopher of his generation\" in 2012, when he won the Gottfried Wilhelm Leibniz Prize.\\nCurrently he is Professor of Political Theory at the Department for Social Sciences, Johann Wolfgang Goethe University in Frankfurt.\\nHe is often identified with the newest generation of scholars associated with the Frankfurt School of critical theory.\\nHe received his doctorate under the supervision of Jürgen Habermas in 1993.',\n",
       " '#Dynamic demand (electric power)#Dynamic demand (electric power)\\nDynamic Demand is the name of a semi-passive technology for adjusting load demands on an electrical power grid.\\n(It is also the name of an independent not-for-profit organization in the UK supported by a charitable grant from the Esmée Fairbairn Foundation dedicated to promoting this technology.\\n)\\n The concept is that by monitoring the frequency of the power grid, as well as their own controls, intermittent domestic and industrial loads switch themselves on/off at optimal moments to balance the overall grid load with generation, reducing critical power mismatches.\\nAs this switching would only advance or delay the appliance operating cycle by a few seconds, it would be unnoticeable to the end user.\\nThis is the foundation of dynamic demand control.\\nIn the United States, in 1982, a (now-lapsed) patent for this idea was issued to power systems engineer Fred Schweppe.\\nOther patents have been issued based on this idea.',\n",
       " '#Alexander Garvin#Alexander Garvin\\nAlexander Garvin (born March 8, 1941) is a noted American urban planner, educator, and author.\\nHe is currently in private practice at AGA Public Realm Strategists in New York City and is also an adjunct professor at the Yale School of Architecture, where he has taught since 1967.\\nHe is widely known for creating the vision plan of Atlanta\\'s proposed greenbelt park system, the Atlanta BeltLine, serving as planning director for New York City’s 2012 Olympic Games bid, and overseeing efforts to redevelop lower Manhattan after the September 11th attacks as Vice President of Planning, Design, and Development for the Lower Manhattan Development Corporation.\\nGarvin has also written a number of books on the subject of planning including \"The Planning Game: Lessons from Great Cities\" and \"The American City: What Works, What Doesn\\'t\".\\nGarvin has also served in a variety of positions in New York City government including director of comprehensive planning.',\n",
       " \"#Bobbie Kilberg#Bobbie Kilberg\\nBobbie Kilberg (born Barbara Greene; October 25, 1944) is a Republican operative who has worked for Presidents Richard Nixon, Gerald Ford, George H.\\nW.\\nBush, and George W.\\nBush.\\nKilberg is currently the President and CEO of the Northern Virginia Technology Council and has been since 1998.\\nShe was briefly an attorney with the Washington law firm of Arnold & Porter from 1971 to 1973.\\nHer White House experiences include serving on the staff of President Richard Nixon's Domestic Policy Council, serving under President Gerald Ford as Associate Counsel and serving for President George H.\\nW.\\nBush as Deputy Assistant to the President for Public Liaison and as Director of the White House Office of Intergovernmental Affairs.\",\n",
       " '#Demon Dice#Demon Dice\\nDemon Dice, originally published as Chaos Progenitus, is a collectible dice game created by Lester Smith (designer of the better-known Dragon Dice) and Tim Brown.\\nIn it, each player controls a demon made of 13 dice representing body parts (or magical items wielded by those parts), which battles the other player\\'s demon.\\nThe original Chaos Progenitus version presented the concept of these dueling fiends seriously; when the game was republished as Demon Dice by Fast Forward Games (which has since gone out of business), the idea was given a humorous spin, styling the players as \"Demon Creation Specialists, Junior Grade\" in the bureaucracy of Hell.\\nNeither version of the game was a great commercial success, though they retain a small and loyal fanbase.',\n",
       " '#John Coffin (scientist)#John Coffin (scientist)\\nJohn Coffin, PhD, is an American virologist.\\nRaised in Boston, Massachusetts, Coffin is a professor of Genetics and Molecular Microbiology at Tufts University in Boston.\\nHe is also the director of the HIV Drug Resistance Program of the National Cancer Institute (NCI) and serves as Special Advisor to the Director of the Center for Cancer Research at NCI.\\nHe is a member of the National Academy of Sciences (elected in 1999) and a recipient of American Cancer Society professorship.\\nHe has advised policy committees at the national level regarding virus-related matters.\\nCoffin was programme committee chair for the 18th Conference on Retroviruses and Opportunistic Infections in 2011.',\n",
       " '#Ludwig Heinrich von Jakob#Ludwig Heinrich von Jakob\\nLudwig Heinrich von Jakob (26 February 1759 – 22 July 1827) was a German philosopher, political scientist and economist.\\nDuring the French occupation of Germany, he worked as a consultant and professor in Russia.',\n",
       " '#Ira Deutchman#Ira Deutchman\\nIra Deutchman is best known as a producer, distributor and marketer of independent films, but in 2000, he moved into film exhibition as Co-Founder and Managing Partner of Emerging Pictures—a New York-based digital exhibition company, which was sold in January, 2015 to Vancouver-based 20 Year Media He also served as Chair of the Film Program at Columbia University School of the Arts from 2011 to 2015, where he has been a Professor of Professional Practice for more than 25 years.\\nDeutchman is a member of The Academy of Motion Picture Arts and Sciences.\\nHe was one of the original creative advisors to the Sundance Institute and formerly served on the Board of Advisors for the Sundance Film Festival.\\nHe has also served as a Board member and former Board chair for the Independent Feature Project, the Board of Advisors for the Los Angeles Independent Film Festival, the Williamstown Film Festival, IFP/West, and the Collective for Living Cinema, and was a member of the Board for Kartemquin Films.\\nIn 2015, he donated his personal archives to the University of Michigan\\'s Screen Arts Mavericks and Makers Collection.\\nDeutchman continues to produce films while consulting on the marketing and distribution of independent films, and teaching producing students in the MFA Film Program at Columbia University\\'s School of the Arts.\\nCurrent projects include a film adaptation of Barbara Ehrenreich\\'s best-selling book \"Nickel and Dimed,\" a theatrical adaptation of Joan Micklin Silver\\'s 1976 independent film \"Hester Street\" and a documentary about art film maverick Donald Rugoff, which is in production.\\nHe consults for Luce Cinecitta on the marketing of Italian cinema in the United States.\\nDeutchman was awarded the first annual Spotlight Lifetime Achievement Award at the 2017 Sundance Art House Convergence.',\n",
       " '#Richard Honaker#Richard Honaker\\nRichard Henderson Honaker (born March 10, 1951) is a lawyer in Rock Springs, Wyoming who was nominated on March 19, 2007, by U.\\nS.\\nPresident George W.\\nBush to serve as one of three U.\\nS.\\nDistrict Judges for the District of Wyoming.\\nThe nomination was given the highest \"well qualified\" rating by the judicial evaluation committee of the American Bar Association.\\nHonaker was initially recommended to Bush by U.\\nS.\\nSenator Craig L.\\nThomas of Wyoming, who died some three months later.\\nHonaker had co-chaired Thomas\\' reelection campaign in 2006 in Rock Springs.\\nHonaker never obtained a Senate vote on his confirmation.\\nThe succession of Barack Obama to the presidency ended his candidacy.\\nHad he been confirmed, Honaker would have succeeded Judge Clarence A.\\nBrimmer in Cheyenne.\\nNancy D.\\nFreudenthal was subsequently nominated and confirmed to the seat.',\n",
       " '#Strictly Come Dancing#Strictly Come Dancing\\nStrictly Come Dancing (informally known as Strictly) is a British television dance contest, featuring contestants, celebrities, and other people, from all walks of life, with professional dance partners competing in a ballroom and Latin dance competition.\\nEach couple is scored out of 10 by a panel of judges.\\nThe title of the show suggests a continuation of the long-running series \"Come Dancing\", with an allusion to the film \"Strictly Ballroom\".\\nThe format has been exported to over 40 other countries, and has also inspired a modern dance-themed spin-off \"Strictly Dance Fever\".\\nThe show is currently presented by Tess Daly and Claudia Winkleman.']"
      ]
     },
     "execution_count": 137,
     "metadata": {},
     "output_type": "execute_result"
    }
   ],
   "source": [
    "data[89]['traceLog'][2]['rerank docs']"
   ]
  },
  {
   "cell_type": "code",
   "execution_count": 3,
   "metadata": {},
   "outputs": [
    {
     "data": {
      "text/plain": [
       "dict_keys(['_id', 'answer', 'question', 'supporting_facts', 'context', 'type', 'level', 'prediction', 'traceLog', 'em', 'f1'])"
      ]
     },
     "execution_count": 3,
     "metadata": {},
     "output_type": "execute_result"
    }
   ],
   "source": [
    "data[0].keys()"
   ]
  },
  {
   "cell_type": "code",
   "execution_count": 5,
   "metadata": {},
   "outputs": [],
   "source": [
    "traceLog = data[0]['traceLog']"
   ]
  },
  {
   "cell_type": "code",
   "execution_count": null,
   "metadata": {},
   "outputs": [],
   "source": []
  },
  {
   "cell_type": "code",
   "execution_count": 6,
   "metadata": {},
   "outputs": [
    {
     "name": "stdout",
     "output_type": "stream",
     "text": [
      "问题：   Who was the 23rd overall pick in the 2010 Major League Baseball Draft? 答案： \n",
      "\n",
      "Christian Yelich was the 23rd overall pick in the 2010 Major League Baseball Draft. The document states he was drafted out of high school by the Miami Marlins in the 1st round (23rd overall) in that year's draft.\n",
      "['#Chris Sale#Chris Sale\\nChristopher Allen Sale (born March 30, 1989), nicknamed The Condor, is an American professional baseball pitcher for the Boston Red Sox of Major League Baseball (MLB).\\nSale was selected 13th overall in the 2010 Major League Baseball draft by the Chicago White Sox and made his MLB debut with them in 2010.\\nHe is a six-time MLB All-Star, and he led the American League in strikeouts in 2015.\\nPrior to playing professionally, he played college baseball for Florida Gulf Coast University.#1.0', '#Christian Yelich#Christian Yelich\\nChristian Stephen Yelich (born December 5, 1991) is an American professional baseball left fielder for the Miami Marlins of Major League Baseball (MLB).\\nYelich was drafted out of high school by the Marlins in the 1st round (23rd overall) of the 2010 Major League Baseball Draft.\\nHe stands 6 feet 3 inches and weighs 195 pounds.#0.9811718676640897', '#Family Guy#Family Guy\\nFamily Guy is an American animated sitcom created by Seth MacFarlane for the Fox Broadcasting Company.\\nThe series centers on the Griffins, a family consisting of parents Peter and Lois; their children, Meg, Chris, and Stewie; and their anthropomorphic pet dog, Brian.\\nThe show is set in the fictional city of Quahog, Rhode Island, and exhibits much of its humor in the form of cutaway gags that often lampoon American culture.#0.8566551427665967', '#Macalester College#Macalester College\\nMacalester College ( ) is a private, coeducational liberal arts college located in Saint Paul, Minnesota, US.\\nIt was founded in 1874 as a Presbyterian-affiliated but nonsectarian college.\\nIts first class entered September 15, 1885.\\nMacalester is exclusively an undergraduate four-year institution and enrolled 1,978 students in the fall of 2013 from 50 U.\\nS.\\nstates and 90 countries.\\nIn 2015, \"U.\\nS.\\nNews & World Report\" ranked Macalester as tied for the 23rd best liberal arts college in the United States, 6th for undergraduate teaching at a national liberal arts college, and 19th for best value at a national liberal arts college.#0.5', '#Manny Machado#Manny Machado\\nManuel Arturo Machado (] ; born July 6, 1992) is an American professional baseball third baseman and shortstop for the Baltimore Orioles of Major League Baseball (MLB).\\nHe attended Brito High School in Miami and was drafted by the Orioles with the third overall pick in the 2010 Major League Baseball draft.\\nHe bats and throws right-handed.#0.49854956336661554', '#Bryce Harper#Bryce Harper\\nBryce Aron Max Harper (born October 16, 1992) is an American professional baseball right fielder for the Washington Nationals of Major League Baseball (MLB).\\nHe stands 6 ft tall and weighs 230 lb .\\nHarper was chosen by the Nationals with the first overall pick in the 2010 Major League Baseball Draft.#0.49567998998403706', \"#Kyle Parker#Kyle Parker\\nKyle James Parker (born September 30, 1989) is an American professional baseball left fielder who is currently a free agent.\\nParker was highly regarded during his prep career as both a baseball and football player and chose to attend Clemson University to play both sports.\\nAfter redshirting during his freshman season, Parker spent the 2009 and 2010 seasons as the starting quarterback for the Clemson Tigers football team.\\nHe was also an integral part of the school's baseball team.\\nParker was drafted by the Colorado Rockies as the 26th overall pick in the 2010 Major League Baseball Draft and made his Major League Baseball (MLB) debut with them in 2014.#0.4923462393189145\", \"#Aaron Blair#Aaron Blair\\nAaron Daniel Blair (born May 26, 1992) is an American professional baseball pitcher for the Atlanta Braves of Major League Baseball (MLB).\\nBlair attended Marshall University, where he played baseball for the Marshall Thundering Herd baseball team.\\nPrior to that, he attended Spring Valley High School in Spring Valley, Nevada and played for the school's baseball team.\\nThe Houston Astros selected him in the 21st round of the 2010 Major League Baseball Draft but decided to go to college instead.\\nThe Arizona Diamondbacks selected Blair with the 36th pick of the 2013 Major League Baseball Draft.\\nHe was traded to the Atlanta Braves by the Diamondbacks as part of a five-player deal announced December 9, 2015.#0.49217408995586714\", '#Nick Schmidt#Nick Schmidt\\nNick Schmidt (born October 10, 1985) is an American professional baseball pitcher who is a free agent.\\nSchmidt was drafted by the San Diego Padres of Major League Baseball with the 23rd overall pick in the 2007 Major League Baseball Draft.\\nHe played college baseball for the Arkansas Razorbacks.#0.4858943941907415', '#Jameson Taillon#Jameson Taillon\\nJameson Lee Taillon (born November 18, 1991) is a Canadian American professional baseball pitcher for the Pittsburgh Pirates of Major League Baseball (MLB).\\nTaillon was drafted by the Pirates as the second overall pick in the 2010 Major League Baseball draft.#0.48092334658361763']\n",
      "问题：   What is the relationship between Fred Gehrke and this player? 答案： \n",
      "\n",
      "Answer: Fred Gehrke is the great-grandfather of Christian Yelich.  \n",
      "Reason: The document about Fred Gehrke explicitly states that he is the great-grandfather of Miami Marlin Christian Yelich. No other relationships between Fred Gehrke and other players in the provided documents are mentioned.\n",
      "['#Christian Yelich#Christian Yelich\\nChristian Stephen Yelich (born December 5, 1991) is an American professional baseball left fielder for the Miami Marlins of Major League Baseball (MLB).\\nYelich was drafted out of high school by the Marlins in the 1st round (23rd overall) of the 2010 Major League Baseball Draft.\\nHe stands 6 feet 3 inches and weighs 195 pounds.#1.0', '#Chris Sale#Chris Sale\\nChristopher Allen Sale (born March 30, 1989), nicknamed The Condor, is an American professional baseball pitcher for the Boston Red Sox of Major League Baseball (MLB).\\nSale was selected 13th overall in the 2010 Major League Baseball draft by the Chicago White Sox and made his MLB debut with them in 2010.\\nHe is a six-time MLB All-Star, and he led the American League in strikeouts in 2015.\\nPrior to playing professionally, he played college baseball for Florida Gulf Coast University.#0.903906897244795', '#Macalester College#Macalester College\\nMacalester College ( ) is a private, coeducational liberal arts college located in Saint Paul, Minnesota, US.\\nIt was founded in 1874 as a Presbyterian-affiliated but nonsectarian college.\\nIts first class entered September 15, 1885.\\nMacalester is exclusively an undergraduate four-year institution and enrolled 1,978 students in the fall of 2013 from 50 U.\\nS.\\nstates and 90 countries.\\nIn 2015, \"U.\\nS.\\nNews & World Report\" ranked Macalester as tied for the 23rd best liberal arts college in the United States, 6th for undergraduate teaching at a national liberal arts college, and 19th for best value at a national liberal arts college.#0.8740333796864438', '#Family Guy#Family Guy\\nFamily Guy is an American animated sitcom created by Seth MacFarlane for the Fox Broadcasting Company.\\nThe series centers on the Griffins, a family consisting of parents Peter and Lois; their children, Meg, Chris, and Stewie; and their anthropomorphic pet dog, Brian.\\nThe show is set in the fictional city of Quahog, Rhode Island, and exhibits much of its humor in the form of cutaway gags that often lampoon American culture.#0.8079379006364429', '#Phineas and Ferb (season 2)#Phineas and Ferb (season 2)\\nThe second season of \"Phineas and Ferb\" started on Disney XD February 19, 2009, and on Disney Channel March 27, 2009.\\nA preview of the season was on January 23, 2009 on Toon Disney, with the episode \"Tip of the Day\".\\nThe season features two step-brothers on summer vacation trying to make every day the best day ever, while their sister tries to bust them.\\nThe five main characters are: brothers Phineas Flynn and Ferb Fletcher, their older sister Candace Flynn, secret agent Perry the Platypus, and the evil Dr.\\nHeinz Doofenshmirtz.#0.6255824777616732', '#Super Bowl LII#Super Bowl LII\\nSuper Bowl LII, the 52nd Super Bowl and the 48th modern-era National Football League (NFL) championship game, will decide the league champion for the 2017 NFL season.\\nThe game is scheduled to be held on February 4, 2018, at U.\\nS.\\nBank Stadium in Minneapolis, Minnesota, the second Super Bowl in Minneapolis, which previously hosted Super Bowl XXVI in 1992.\\nThe game will be televised in the United States by NBC.#0.5', '#Fred Gehrke#Fred Gehrke\\nClarence Fred Gehrke (April 24, 1918 – February 9, 2002) was an American football player and executive.\\nHe played in the National Football League (NFL) for the Cleveland / Los Angeles Rams, San Francisco 49ers and Chicago Cardinals from 1940 through 1950.\\nTo boost team morale, Gehrke designed and painted the Los Angeles Rams logo in 1948, which was the first painted on the helmets of an NFL team.\\nHe later served as the general manager of the Denver Broncos from 1977 through 1981.\\nHe is the great-grandfather of Miami Marlin Christian Yelich#0.46111676680790475', \"#Kyle Parker#Kyle Parker\\nKyle James Parker (born September 30, 1989) is an American professional baseball left fielder who is currently a free agent.\\nParker was highly regarded during his prep career as both a baseball and football player and chose to attend Clemson University to play both sports.\\nAfter redshirting during his freshman season, Parker spent the 2009 and 2010 seasons as the starting quarterback for the Clemson Tigers football team.\\nHe was also an integral part of the school's baseball team.\\nParker was drafted by the Colorado Rockies as the 26th overall pick in the 2010 Major League Baseball Draft and made his Major League Baseball (MLB) debut with them in 2014.#0.4269045218521417\", '#Nick Schmidt#Nick Schmidt\\nNick Schmidt (born October 10, 1985) is an American professional baseball pitcher who is a free agent.\\nSchmidt was drafted by the San Diego Padres of Major League Baseball with the 23rd overall pick in the 2007 Major League Baseball Draft.\\nHe played college baseball for the Arkansas Razorbacks.#0.4216071402309594', '#Manny Machado#Manny Machado\\nManuel Arturo Machado (] ; born July 6, 1992) is an American professional baseball third baseman and shortstop for the Baltimore Orioles of Major League Baseball (MLB).\\nHe attended Brito High School in Miami and was drafted by the Orioles with the third overall pick in the 2010 Major League Baseball draft.\\nHe bats and throws right-handed.#0.4173231541684846']\n",
      "问题：   If direct relationship not found, identify the team that selected the player and check Fred's role there 答案： \n",
      "\n",
      "Answer: Fred Gehrke is the great-grandfather of Christian Yelich.  \n",
      "Reason: The document explicitly states that Fred Gehrke is the great-grandfather of Miami Marlin Christian Yelich. No direct relationship beyond this familial link is mentioned, and since the direct relationship exists, further analysis of Fred's role with the selecting team (Miami Marlins) is unnecessary as no such role is documented.\n",
      "['#Chris Sale#Chris Sale\\nChristopher Allen Sale (born March 30, 1989), nicknamed The Condor, is an American professional baseball pitcher for the Boston Red Sox of Major League Baseball (MLB).\\nSale was selected 13th overall in the 2010 Major League Baseball draft by the Chicago White Sox and made his MLB debut with them in 2010.\\nHe is a six-time MLB All-Star, and he led the American League in strikeouts in 2015.\\nPrior to playing professionally, he played college baseball for Florida Gulf Coast University.#0.9027407542587005', '#Super Bowl LII#Super Bowl LII\\nSuper Bowl LII, the 52nd Super Bowl and the 48th modern-era National Football League (NFL) championship game, will decide the league champion for the 2017 NFL season.\\nThe game is scheduled to be held on February 4, 2018, at U.\\nS.\\nBank Stadium in Minneapolis, Minnesota, the second Super Bowl in Minneapolis, which previously hosted Super Bowl XXVI in 1992.\\nThe game will be televised in the United States by NBC.#0.8775451180009255', '#Family Guy#Family Guy\\nFamily Guy is an American animated sitcom created by Seth MacFarlane for the Fox Broadcasting Company.\\nThe series centers on the Griffins, a family consisting of parents Peter and Lois; their children, Meg, Chris, and Stewie; and their anthropomorphic pet dog, Brian.\\nThe show is set in the fictional city of Quahog, Rhode Island, and exhibits much of its humor in the form of cutaway gags that often lampoon American culture.#0.8206388298458808', '#Phineas and Ferb (season 2)#Phineas and Ferb (season 2)\\nThe second season of \"Phineas and Ferb\" started on Disney XD February 19, 2009, and on Disney Channel March 27, 2009.\\nA preview of the season was on January 23, 2009 on Toon Disney, with the episode \"Tip of the Day\".\\nThe season features two step-brothers on summer vacation trying to make every day the best day ever, while their sister tries to bust them.\\nThe five main characters are: brothers Phineas Flynn and Ferb Fletcher, their older sister Candace Flynn, secret agent Perry the Platypus, and the evil Dr.\\nHeinz Doofenshmirtz.#0.6334443495773344', '#Macalester College#Macalester College\\nMacalester College ( ) is a private, coeducational liberal arts college located in Saint Paul, Minnesota, US.\\nIt was founded in 1874 as a Presbyterian-affiliated but nonsectarian college.\\nIts first class entered September 15, 1885.\\nMacalester is exclusively an undergraduate four-year institution and enrolled 1,978 students in the fall of 2013 from 50 U.\\nS.\\nstates and 90 countries.\\nIn 2015, \"U.\\nS.\\nNews & World Report\" ranked Macalester as tied for the 23rd best liberal arts college in the United States, 6th for undergraduate teaching at a national liberal arts college, and 19th for best value at a national liberal arts college.#0.5', '#Christian Yelich#Christian Yelich\\nChristian Stephen Yelich (born December 5, 1991) is an American professional baseball left fielder for the Miami Marlins of Major League Baseball (MLB).\\nYelich was drafted out of high school by the Marlins in the 1st round (23rd overall) of the 2010 Major League Baseball Draft.\\nHe stands 6 feet 3 inches and weighs 195 pounds.#0.5', '#Fred Gehrke#Fred Gehrke\\nClarence Fred Gehrke (April 24, 1918 – February 9, 2002) was an American football player and executive.\\nHe played in the National Football League (NFL) for the Cleveland / Los Angeles Rams, San Francisco 49ers and Chicago Cardinals from 1940 through 1950.\\nTo boost team morale, Gehrke designed and painted the Los Angeles Rams logo in 1948, which was the first painted on the helmets of an NFL team.\\nHe later served as the general manager of the Denver Broncos from 1977 through 1981.\\nHe is the great-grandfather of Miami Marlin Christian Yelich#0.47351741173556844', \"#Kyle Parker#Kyle Parker\\nKyle James Parker (born September 30, 1989) is an American professional baseball left fielder who is currently a free agent.\\nParker was highly regarded during his prep career as both a baseball and football player and chose to attend Clemson University to play both sports.\\nAfter redshirting during his freshman season, Parker spent the 2009 and 2010 seasons as the starting quarterback for the Clemson Tigers football team.\\nHe was also an integral part of the school's baseball team.\\nParker was drafted by the Colorado Rockies as the 26th overall pick in the 2010 Major League Baseball Draft and made his Major League Baseball (MLB) debut with them in 2014.#0.42190544935508467\", '#Nick Schmidt#Nick Schmidt\\nNick Schmidt (born October 10, 1985) is an American professional baseball pitcher who is a free agent.\\nSchmidt was drafted by the San Diego Padres of Major League Baseball with the 23rd overall pick in the 2007 Major League Baseball Draft.\\nHe played college baseball for the Arkansas Razorbacks.#0.4154114879000984', '#Manny Machado#Manny Machado\\nManuel Arturo Machado (] ; born July 6, 1992) is an American professional baseball third baseman and shortstop for the Baltimore Orioles of Major League Baseball (MLB).\\nHe attended Brito High School in Miami and was drafted by the Orioles with the third overall pick in the 2010 Major League Baseball draft.\\nHe bats and throws right-handed.#0.41521541713647614']\n",
      "*********输出进行排序后召回的结果**************\n",
      "['#Chris Sale#Chris Sale\\nChristopher Allen Sale (born March 30, 1989), nicknamed The Condor, is an American professional baseball pitcher for the Boston Red Sox of Major League Baseball (MLB).\\nSale was selected 13th overall in the 2010 Major League Baseball draft by the Chicago White Sox and made his MLB debut with them in 2010.\\nHe is a six-time MLB All-Star, and he led the American League in strikeouts in 2015.\\nPrior to playing professionally, he played college baseball for Florida Gulf Coast University.', '#Christian Yelich#Christian Yelich\\nChristian Stephen Yelich (born December 5, 1991) is an American professional baseball left fielder for the Miami Marlins of Major League Baseball (MLB).\\nYelich was drafted out of high school by the Marlins in the 1st round (23rd overall) of the 2010 Major League Baseball Draft.\\nHe stands 6 feet 3 inches and weighs 195 pounds.', '#Family Guy#Family Guy\\nFamily Guy is an American animated sitcom created by Seth MacFarlane for the Fox Broadcasting Company.\\nThe series centers on the Griffins, a family consisting of parents Peter and Lois; their children, Meg, Chris, and Stewie; and their anthropomorphic pet dog, Brian.\\nThe show is set in the fictional city of Quahog, Rhode Island, and exhibits much of its humor in the form of cutaway gags that often lampoon American culture.', '#Macalester College#Macalester College\\nMacalester College ( ) is a private, coeducational liberal arts college located in Saint Paul, Minnesota, US.\\nIt was founded in 1874 as a Presbyterian-affiliated but nonsectarian college.\\nIts first class entered September 15, 1885.\\nMacalester is exclusively an undergraduate four-year institution and enrolled 1,978 students in the fall of 2013 from 50 U.\\nS.\\nstates and 90 countries.\\nIn 2015, \"U.\\nS.\\nNews & World Report\" ranked Macalester as tied for the 23rd best liberal arts college in the United States, 6th for undergraduate teaching at a national liberal arts college, and 19th for best value at a national liberal arts college.', '#Super Bowl LII#Super Bowl LII\\nSuper Bowl LII, the 52nd Super Bowl and the 48th modern-era National Football League (NFL) championship game, will decide the league champion for the 2017 NFL season.\\nThe game is scheduled to be held on February 4, 2018, at U.\\nS.\\nBank Stadium in Minneapolis, Minnesota, the second Super Bowl in Minneapolis, which previously hosted Super Bowl XXVI in 1992.\\nThe game will be televised in the United States by NBC.', '#Phineas and Ferb (season 2)#Phineas and Ferb (season 2)\\nThe second season of \"Phineas and Ferb\" started on Disney XD February 19, 2009, and on Disney Channel March 27, 2009.\\nA preview of the season was on January 23, 2009 on Toon Disney, with the episode \"Tip of the Day\".\\nThe season features two step-brothers on summer vacation trying to make every day the best day ever, while their sister tries to bust them.\\nThe five main characters are: brothers Phineas Flynn and Ferb Fletcher, their older sister Candace Flynn, secret agent Perry the Platypus, and the evil Dr.\\nHeinz Doofenshmirtz.', '#Manny Machado#Manny Machado\\nManuel Arturo Machado (] ; born July 6, 1992) is an American professional baseball third baseman and shortstop for the Baltimore Orioles of Major League Baseball (MLB).\\nHe attended Brito High School in Miami and was drafted by the Orioles with the third overall pick in the 2010 Major League Baseball draft.\\nHe bats and throws right-handed.', \"#Kyle Parker#Kyle Parker\\nKyle James Parker (born September 30, 1989) is an American professional baseball left fielder who is currently a free agent.\\nParker was highly regarded during his prep career as both a baseball and football player and chose to attend Clemson University to play both sports.\\nAfter redshirting during his freshman season, Parker spent the 2009 and 2010 seasons as the starting quarterback for the Clemson Tigers football team.\\nHe was also an integral part of the school's baseball team.\\nParker was drafted by the Colorado Rockies as the 26th overall pick in the 2010 Major League Baseball Draft and made his Major League Baseball (MLB) debut with them in 2014.\", '#Nick Schmidt#Nick Schmidt\\nNick Schmidt (born October 10, 1985) is an American professional baseball pitcher who is a free agent.\\nSchmidt was drafted by the San Diego Padres of Major League Baseball with the 23rd overall pick in the 2007 Major League Baseball Draft.\\nHe played college baseball for the Arkansas Razorbacks.', '#Fred Gehrke#Fred Gehrke\\nClarence Fred Gehrke (April 24, 1918 – February 9, 2002) was an American football player and executive.\\nHe played in the National Football League (NFL) for the Cleveland / Los Angeles Rams, San Francisco 49ers and Chicago Cardinals from 1940 through 1950.\\nTo boost team morale, Gehrke designed and painted the Los Angeles Rams logo in 1948, which was the first painted on the helmets of an NFL team.\\nHe later served as the general manager of the Denver Broncos from 1977 through 1981.\\nHe is the great-grandfather of Miami Marlin Christian Yelich', '#Bryce Harper#Bryce Harper\\nBryce Aron Max Harper (born October 16, 1992) is an American professional baseball right fielder for the Washington Nationals of Major League Baseball (MLB).\\nHe stands 6 ft tall and weighs 230 lb .\\nHarper was chosen by the Nationals with the first overall pick in the 2010 Major League Baseball Draft.', \"#Aaron Blair#Aaron Blair\\nAaron Daniel Blair (born May 26, 1992) is an American professional baseball pitcher for the Atlanta Braves of Major League Baseball (MLB).\\nBlair attended Marshall University, where he played baseball for the Marshall Thundering Herd baseball team.\\nPrior to that, he attended Spring Valley High School in Spring Valley, Nevada and played for the school's baseball team.\\nThe Houston Astros selected him in the 21st round of the 2010 Major League Baseball Draft but decided to go to college instead.\\nThe Arizona Diamondbacks selected Blair with the 36th pick of the 2013 Major League Baseball Draft.\\nHe was traded to the Atlanta Braves by the Diamondbacks as part of a five-player deal announced December 9, 2015.\", '#Jameson Taillon#Jameson Taillon\\nJameson Lee Taillon (born November 18, 1991) is a Canadian American professional baseball pitcher for the Pittsburgh Pirates of Major League Baseball (MLB).\\nTaillon was drafted by the Pirates as the second overall pick in the 2010 Major League Baseball draft.']\n",
      "**********************\n",
      "问题：   Get the document detailing Fred Gehrke's legacy.   答案： \n",
      "\n",
      "**Answer:**  \n",
      "Fred Gehrke designed and painted the Los Angeles Rams' helmet logo in 1948, the first such NFL helmet logo. He later served as the Denver Broncos' general manager from 1977 to 1981 and is the great-grandfather of Christian Yelich.  \n",
      "\n",
      "**Reason:** The document under #Fred Gehrke#Fred Gehrke explicitly states these details about his contributions to the NFL and family legacy. No other documents mention him.\n",
      "['#Family Guy#Family Guy\\nFamily Guy is an American animated sitcom created by Seth MacFarlane for the Fox Broadcasting Company.\\nThe series centers on the Griffins, a family consisting of parents Peter and Lois; their children, Meg, Chris, and Stewie; and their anthropomorphic pet dog, Brian.\\nThe show is set in the fictional city of Quahog, Rhode Island, and exhibits much of its humor in the form of cutaway gags that often lampoon American culture.#0.8702172894688444', \"#Archery at the Commonwealth Games#Archery at the Commonwealth Games\\nArchery is one of the optional sports at the quadrennial Commonwealth Games competition.\\nIt has been a Commonwealth Games sport since 1982, but has only featured twice in the competition's history; at the 1982 Commonwealth Games and at the 2010 Commonwealth Games.\\nIt is an optional sport and may or may not be included in the sporting programme of each edition of the Games.\\nThe host country of the games decides whether to include it.#0.5\", '#Fred Gehrke#Fred Gehrke\\nClarence Fred Gehrke (April 24, 1918 – February 9, 2002) was an American football player and executive.\\nHe played in the National Football League (NFL) for the Cleveland / Los Angeles Rams, San Francisco 49ers and Chicago Cardinals from 1940 through 1950.\\nTo boost team morale, Gehrke designed and painted the Los Angeles Rams logo in 1948, which was the first painted on the helmets of an NFL team.\\nHe later served as the general manager of the Denver Broncos from 1977 through 1981.\\nHe is the great-grandfather of Miami Marlin Christian Yelich#0.5', '#Edward F. Wente#Edward F. Wente\\nEdward F.\\nWente (born 1930) is an American professor emeritus of Egyptology and the Department of Near Eastern Languages and Civilizations at the University of Chicago.\\nHe received his Ph.\\nD from the University of Chicago in 1959 and lectured there from 1963 to 1996.\\nHe is also a longstanding member of the Oriental Institute, Chicago.\\nOne of his major works is \"Letters from Ancient Egypt\" (1990), published by the Scholarly Press.\\nIn 1999 the Oriental Institute published a collection of essays by Egyptologists in honor of Edward Wente\" \"Gold of Praise: Studies on Ancient Egypt in Honor of Edward F.\\nWente\"\".#0.45973731875824514', '#Gordon &quot;Inferno&quot; Collection#Gordon &quot;Inferno&quot; Collection\\nThe Robert W.\\nGordon \"Inferno\" Collection is about 200 pages of original and typescript copies of correspondence and letters that were separated from the main collection of the Archive of Folk Song, Library of Congress, by Robert W.\\nGordon, first head of the folklife department in the Library of Congress, or a third party, due to their bawdy and scatological subject matter.\\nIn January 1974, Debora Kodish, folklorist and founder of the Philadelphia Folklore Project, prepared a 14-page index to the collection that lists informant, date, location and title of the texts.#0.4537405171332428', '#J. Habakuk Jephson\\'s Statement#J. Habakuk Jephson\\'s Statement\\n\"J.\\nHabakuk Jephson\\'s Statement\" is an 1884 short story by young Sir Arthur Conan Doyle.\\nIt is in the form of a first-person testimony by a survivor of the Marie Celeste, a fictionalised version of the \"Mary Celeste\", a ship found mysteriously abandoned and adrift in the Atlantic Ocean in 1872.\\nConan Doyle\\'s story was published anonymously in the January 1884 issue of the respected \"Cornhill Magazine\".#0.44993403881801924', '#Inside Bad Company 1974–1982#Inside Bad Company 1974–1982\\nInside Bad Company 1974–1982 is a documentary about the English hard rock band Bad Company released in 2005.\\nThe DVD reviews Bad Company on stage, on film and on record, with film never previously available.\\nFounding member Simon Kirke and biographer Steven Rosen revisit on the life and work of the classic era of Bad Company.\\nThe DVD covers the band in the 1970s, 1980s of the original line up of Paul Rodgers, Mick Ralphs, Boz Burrell and Simon Kirke.\\nFeatured are some of the band\\'s biggest hits, including \"Can\\'t Get Enough\", \"Feel Like Makin\\' Love\" and of course, \"Bad Company\", but no complete performances of any songs are shown, only clips of them.\\nThe documentary has interview segments with Kirke, (the only member to be with the band for its entire history) and has instrumental demonstrations showing how the songs were written and played.#0.444104791320878', '#Notorious (soundtrack)#Notorious (soundtrack)\\nNotorious: Music from and Inspired by the Original Motion Picture is the official soundtrack to the 2009 biopic film \"Notorious\" based on the life and death of rapper The Notorious B.\\nI.\\nG.\\n.\\nIt features mostly his previously heard songs, inclusively the ones harder to find such as \"Party and Bullshit\" and \"One More Chance (Remix)\".\\nIt includes two original songs \"Brooklyn Go Hard\" by Jay-Z and a tribute to the rapper by Jadakiss and widow Faith Evans called \"Letter to B.\\nI.\\nG.\\n\", as well as three unreleased demos by him and a song with Christopher \"CJ\" Wallace, Jr.\\n, his son.\\ns of March 2009 , the album sold roughly 124,490 copies.\\n\"Notorious Thugs\", \"Notorious B.\\nI.\\nG.\\n\", \"One More Chance (Remix)\", \"Brooklyn Go Hard\", \"Kick in the Door\", \"What\\'s Beef\", \"The World Is Filled.\\n.\\n.\\n\", \"One More Chance / The Legacy Remix\" and \"Love No Ho\" do not feature in the movie, but are included on the album.#0.4440496469243667', '#Reginald Engelbach#Reginald Engelbach\\nReginald Engelbach (July 9, 1888 – February 26, 1946) was an English Egyptologist and engineer.\\nHe is mainly known for his works in the Egyptian Museum of Cairo, above all the compilation of a register of artifacts belonging of the museum.#0.4437387779638144', '#Männer haben kein Gehirn#Männer haben kein Gehirn\\nMänner haben kein Gehirn (Men don\\'t have Brains) is a promotional audiobook by German punk rock band Die Ärzte.\\nIt is a sampler of the 2001 \"Lese-Tour\" (\"reading tour\") \"Die Ärzte - Hören, Sehen, Sagen .\\n.\\n.\\nNicht!\\n- Die Lesetour\" featuring Markus Karg, the author of the official biography \"Ein überdimensionales Meerschwein frisst die Erde auf\".\\nThe original promo CD was only released for official fan club members, however, the audio files can still be downloaded from the band\\'s official homepage.#0.44078491685618765']\n",
      "问题：   Identify the familial relationship between Fred Gehrke and Christian Yelich as stated in the document.   答案： \n",
      "\n",
      "**Answer:** Fred Gehrke is the great-grandfather of Christian Yelich.  \n",
      "**Reason:** The document under #Fred Gehrke#Fred Gehrke explicitly states, \"He is the great-grandfather of Miami Marlin Christian Yelich.\" No other relationships are mentioned in the provided资料.\n",
      "['#Fred Gehrke#Fred Gehrke\\nClarence Fred Gehrke (April 24, 1918 – February 9, 2002) was an American football player and executive.\\nHe played in the National Football League (NFL) for the Cleveland / Los Angeles Rams, San Francisco 49ers and Chicago Cardinals from 1940 through 1950.\\nTo boost team morale, Gehrke designed and painted the Los Angeles Rams logo in 1948, which was the first painted on the helmets of an NFL team.\\nHe later served as the general manager of the Denver Broncos from 1977 through 1981.\\nHe is the great-grandfather of Miami Marlin Christian Yelich#0.939026304213948', '#Bad Religion#Bad Religion\\nBad Religion is an American punk rock band that formed in Los Angeles, California, in 1980.\\nThey make extensive use of three-part vocal harmonies (which they refer to in their album liner notes as the \"oozin\\' aahs\") and guitar solos, and are known for their lyrics, which cover topics such as criticism of religion, political commentary and society in general.\\nThe band\\'s lineup has changed several times over its lifespan, with lead vocalist Greg Graffin being the only consistent member; the current lineup, however, features three of the band\\'s four original members (Graffin, Brett Gurewitz and Jay Bentley).\\nTo date, Bad Religion has released sixteen studio albums, two live albums, three compilation albums, three EPs (one of which is composed of covers of Christmas songs) and two DVDs (which were both recorded live).\\nThey are considered to be one of the best-selling punk rock acts of all time, having sold over five million albums worldwide.#0.8540946188090057', '#Family Guy#Family Guy\\nFamily Guy is an American animated sitcom created by Seth MacFarlane for the Fox Broadcasting Company.\\nThe series centers on the Griffins, a family consisting of parents Peter and Lois; their children, Meg, Chris, and Stewie; and their anthropomorphic pet dog, Brian.\\nThe show is set in the fictional city of Quahog, Rhode Island, and exhibits much of its humor in the form of cutaway gags that often lampoon American culture.#0.7947808767044702', '#Christian Yelich#Christian Yelich\\nChristian Stephen Yelich (born December 5, 1991) is an American professional baseball left fielder for the Miami Marlins of Major League Baseball (MLB).\\nYelich was drafted out of high school by the Marlins in the 1st round (23rd overall) of the 2010 Major League Baseball Draft.\\nHe stands 6 feet 3 inches and weighs 195 pounds.#0.6560346357230318', '#Phineas and Ferb (season 2)#Phineas and Ferb (season 2)\\nThe second season of \"Phineas and Ferb\" started on Disney XD February 19, 2009, and on Disney Channel March 27, 2009.\\nA preview of the season was on January 23, 2009 on Toon Disney, with the episode \"Tip of the Day\".\\nThe season features two step-brothers on summer vacation trying to make every day the best day ever, while their sister tries to bust them.\\nThe five main characters are: brothers Phineas Flynn and Ferb Fletcher, their older sister Candace Flynn, secret agent Perry the Platypus, and the evil Dr.\\nHeinz Doofenshmirtz.#0.5947626287844224', '#Phineas and Ferb (season 1)#Phineas and Ferb (season 1)\\nThe first season of \"Phineas and Ferb\" aired on Disney Channel from August 17, 2007 to February 8, 2009.\\nThe series introduces two step-brothers on summer vacation trying to make every day the best day ever, while their sister tries to bust them.\\nThe five main characters are brothers Phineas Flynn and Ferb Fletcher, their older sister Candace Flynn, secret agent Perry the Platypus, and the evil Dr.\\nHeinz Doofenshmirtz.#0.5944062201542457', '#Premiere (magazine)#Premiere (magazine)\\nPremiere was an American and New York City-based film magazine published by Hachette Filipacchi Media U.\\nS.\\n, between 1987 and 2010.\\nThe original version of the magazine, \"Première\", was established in France in 1976 and is still being published there.#0.5', '#Battiscombe Gunn#Battiscombe Gunn\\nBattiscombe \"Jack\" George Gunn, {\\'1\\': \", \\'2\\': \", \\'3\\': \", \\'4\\': \"} (30 June 1883 – 27 February 1950) was an English Egyptologist and philologist.\\nHe published his first translation from Egyptian in 1906.\\nHe translated inscriptions for many important excavations and sites, including Fayum, Saqqara, Amarna, Giza and Luxor (including Tutankhamun).\\nHe was curator at the Egyptian Museum in Cairo and at the University Museum at the University of Pennsylvania in Philadelphia.\\nIn 1934 he was appointed Professor of Egyptology at the University of Oxford, a chair he held until his death in 1950.#0.4999947044075381', '#Udai Kumar#Udai Kumar\\nMr.\\nUdai Kumar is the Managing Director and CEO of the Metropolitan Stock Exchange of India Ltd (MSEI) since February 2016.\\nMSEI is India’s youngest and one of the three stock exchanges recognized by country’s securities market regulator - Securities and Exchange Board of India (SEBI).\\nMr.\\nKumar served as Interim Chief Executive Officer and Interim Managing Director of Metropolitan Stock Exchange of India Ltd.\\nfrom 10 October 2015 to February 2016.\\nHe has also served as Managing Director of Metropolitan Clearing Corporation of India Ltd (MCCIL) (Formerly, MCX-SX Clearing Corporation Ltd (MCX-SXCCL).\\nHe also serves as a Director of Metropolitan Stock Exchange of India Ltd.#0.4999947044075381', \"#Archery at the Commonwealth Games#Archery at the Commonwealth Games\\nArchery is one of the optional sports at the quadrennial Commonwealth Games competition.\\nIt has been a Commonwealth Games sport since 1982, but has only featured twice in the competition's history; at the 1982 Commonwealth Games and at the 2010 Commonwealth Games.\\nIt is an optional sport and may or may not be included in the sporting programme of each edition of the Games.\\nThe host country of the games decides whether to include it.#0.4999947044075381\"]\n",
      "问题：   Determine the document's specific mention of the 2010 MLB Draft related to Fred Gehrke or Christian Yelich.   答案： \n",
      "\n",
      "**Answer:** Christian Yelich was drafted by the Miami Marlins in the 1st round (23rd overall) of the 2010 Major League Baseball Draft.  \n",
      "**Reason:** The document under #Christian Yelich# explicitly states, \"Yelich was drafted out of high school by the Marlins in the 1st round (23rd overall) of the 2010 Major League Baseball Draft.\" No mention of Fred Gehrke relates to the 2010 MLB Draft.\n",
      "['#Bad Religion#Bad Religion\\nBad Religion is an American punk rock band that formed in Los Angeles, California, in 1980.\\nThey make extensive use of three-part vocal harmonies (which they refer to in their album liner notes as the \"oozin\\' aahs\") and guitar solos, and are known for their lyrics, which cover topics such as criticism of religion, political commentary and society in general.\\nThe band\\'s lineup has changed several times over its lifespan, with lead vocalist Greg Graffin being the only consistent member; the current lineup, however, features three of the band\\'s four original members (Graffin, Brett Gurewitz and Jay Bentley).\\nTo date, Bad Religion has released sixteen studio albums, two live albums, three compilation albums, three EPs (one of which is composed of covers of Christmas songs) and two DVDs (which were both recorded live).\\nThey are considered to be one of the best-selling punk rock acts of all time, having sold over five million albums worldwide.#0.8531993235017473', '#Super Bowl LII#Super Bowl LII\\nSuper Bowl LII, the 52nd Super Bowl and the 48th modern-era National Football League (NFL) championship game, will decide the league champion for the 2017 NFL season.\\nThe game is scheduled to be held on February 4, 2018, at U.\\nS.\\nBank Stadium in Minneapolis, Minnesota, the second Super Bowl in Minneapolis, which previously hosted Super Bowl XXVI in 1992.\\nThe game will be televised in the United States by NBC.#0.8497178226374339', '#Family Guy#Family Guy\\nFamily Guy is an American animated sitcom created by Seth MacFarlane for the Fox Broadcasting Company.\\nThe series centers on the Griffins, a family consisting of parents Peter and Lois; their children, Meg, Chris, and Stewie; and their anthropomorphic pet dog, Brian.\\nThe show is set in the fictional city of Quahog, Rhode Island, and exhibits much of its humor in the form of cutaway gags that often lampoon American culture.#0.7890507894942226', '#Phineas and Ferb (season 2)#Phineas and Ferb (season 2)\\nThe second season of \"Phineas and Ferb\" started on Disney XD February 19, 2009, and on Disney Channel March 27, 2009.\\nA preview of the season was on January 23, 2009 on Toon Disney, with the episode \"Tip of the Day\".\\nThe season features two step-brothers on summer vacation trying to make every day the best day ever, while their sister tries to bust them.\\nThe five main characters are: brothers Phineas Flynn and Ferb Fletcher, their older sister Candace Flynn, secret agent Perry the Platypus, and the evil Dr.\\nHeinz Doofenshmirtz.#0.5958420513981064', '#Battiscombe Gunn#Battiscombe Gunn\\nBattiscombe \"Jack\" George Gunn, {\\'1\\': \", \\'2\\': \", \\'3\\': \", \\'4\\': \"} (30 June 1883 – 27 February 1950) was an English Egyptologist and philologist.\\nHe published his first translation from Egyptian in 1906.\\nHe translated inscriptions for many important excavations and sites, including Fayum, Saqqara, Amarna, Giza and Luxor (including Tutankhamun).\\nHe was curator at the Egyptian Museum in Cairo and at the University Museum at the University of Pennsylvania in Philadelphia.\\nIn 1934 he was appointed Professor of Egyptology at the University of Oxford, a chair he held until his death in 1950.#0.5', \"#Archery at the Commonwealth Games#Archery at the Commonwealth Games\\nArchery is one of the optional sports at the quadrennial Commonwealth Games competition.\\nIt has been a Commonwealth Games sport since 1982, but has only featured twice in the competition's history; at the 1982 Commonwealth Games and at the 2010 Commonwealth Games.\\nIt is an optional sport and may or may not be included in the sporting programme of each edition of the Games.\\nThe host country of the games decides whether to include it.#0.5\", '#Premiere (magazine)#Premiere (magazine)\\nPremiere was an American and New York City-based film magazine published by Hachette Filipacchi Media U.\\nS.\\n, between 1987 and 2010.\\nThe original version of the magazine, \"Première\", was established in France in 1976 and is still being published there.#0.5', '#Fred Gehrke#Fred Gehrke\\nClarence Fred Gehrke (April 24, 1918 – February 9, 2002) was an American football player and executive.\\nHe played in the National Football League (NFL) for the Cleveland / Los Angeles Rams, San Francisco 49ers and Chicago Cardinals from 1940 through 1950.\\nTo boost team morale, Gehrke designed and painted the Los Angeles Rams logo in 1948, which was the first painted on the helmets of an NFL team.\\nHe later served as the general manager of the Denver Broncos from 1977 through 1981.\\nHe is the great-grandfather of Miami Marlin Christian Yelich#0.5', '#Christian Yelich#Christian Yelich\\nChristian Stephen Yelich (born December 5, 1991) is an American professional baseball left fielder for the Miami Marlins of Major League Baseball (MLB).\\nYelich was drafted out of high school by the Marlins in the 1st round (23rd overall) of the 2010 Major League Baseball Draft.\\nHe stands 6 feet 3 inches and weighs 195 pounds.#0.4140955321412443', '#Alexander Garvin#Alexander Garvin\\nAlexander Garvin (born March 8, 1941) is a noted American urban planner, educator, and author.\\nHe is currently in private practice at AGA Public Realm Strategists in New York City and is also an adjunct professor at the Yale School of Architecture, where he has taught since 1967.\\nHe is widely known for creating the vision plan of Atlanta\\'s proposed greenbelt park system, the Atlanta BeltLine, serving as planning director for New York City’s 2012 Olympic Games bid, and overseeing efforts to redevelop lower Manhattan after the September 11th attacks as Vice President of Planning, Design, and Development for the Lower Manhattan Development Corporation.\\nGarvin has also written a number of books on the subject of planning including \"The Planning Game: Lessons from Great Cities\" and \"The American City: What Works, What Doesn\\'t\".\\nGarvin has also served in a variety of positions in New York City government including director of comprehensive planning.#0.3759010631408472']\n",
      "问题：   Retrieve the familial relationship details.   答案： \n",
      "\n",
      "**Answer:** Fred Gehrke is the great-grandfather of Christian Yelich.  \n",
      "**Reason:** The document under #Fred Gehrke explicitly states, \"He is the great-grandfather of Miami Marlin Christian Yelich.\" No additional familial relationships are mentioned in the provided资料.\n",
      "['#Paramount Pictures#Paramount Pictures\\nParamount Pictures Corporation (also known simply as Paramount) is an American film studio based in Hollywood, California, that has been a subsidiary of the American media conglomerate Viacom since 1994.\\nParamount is the fifth oldest surviving film studio in the world, the second oldest in the United States, and the sole member of the \"Big Six\" film studios still located in the Los Angeles neighborhood of Hollywood.\\nIn 1916, film producer Adolph Zukor contracted 22 actors and actresses and honored each with a star on the logo.\\nThese fortunate few would become the first \"movie stars.\\n\"\\n In 2014, Paramount Pictures became the first major Hollywood studio to distribute all of its films in digital form only.#0.8616490779294113', '#Bad Religion#Bad Religion\\nBad Religion is an American punk rock band that formed in Los Angeles, California, in 1980.\\nThey make extensive use of three-part vocal harmonies (which they refer to in their album liner notes as the \"oozin\\' aahs\") and guitar solos, and are known for their lyrics, which cover topics such as criticism of religion, political commentary and society in general.\\nThe band\\'s lineup has changed several times over its lifespan, with lead vocalist Greg Graffin being the only consistent member; the current lineup, however, features three of the band\\'s four original members (Graffin, Brett Gurewitz and Jay Bentley).\\nTo date, Bad Religion has released sixteen studio albums, two live albums, three compilation albums, three EPs (one of which is composed of covers of Christmas songs) and two DVDs (which were both recorded live).\\nThey are considered to be one of the best-selling punk rock acts of all time, having sold over five million albums worldwide.#0.8570073965540247', '#Chris Sale#Chris Sale\\nChristopher Allen Sale (born March 30, 1989), nicknamed The Condor, is an American professional baseball pitcher for the Boston Red Sox of Major League Baseball (MLB).\\nSale was selected 13th overall in the 2010 Major League Baseball draft by the Chicago White Sox and made his MLB debut with them in 2010.\\nHe is a six-time MLB All-Star, and he led the American League in strikeouts in 2015.\\nPrior to playing professionally, he played college baseball for Florida Gulf Coast University.#0.8540465426348252', '#Super Bowl LII#Super Bowl LII\\nSuper Bowl LII, the 52nd Super Bowl and the 48th modern-era National Football League (NFL) championship game, will decide the league champion for the 2017 NFL season.\\nThe game is scheduled to be held on February 4, 2018, at U.\\nS.\\nBank Stadium in Minneapolis, Minnesota, the second Super Bowl in Minneapolis, which previously hosted Super Bowl XXVI in 1992.\\nThe game will be televised in the United States by NBC.#0.8528129380589968', '#Family Guy#Family Guy\\nFamily Guy is an American animated sitcom created by Seth MacFarlane for the Fox Broadcasting Company.\\nThe series centers on the Griffins, a family consisting of parents Peter and Lois; their children, Meg, Chris, and Stewie; and their anthropomorphic pet dog, Brian.\\nThe show is set in the fictional city of Quahog, Rhode Island, and exhibits much of its humor in the form of cutaway gags that often lampoon American culture.#0.7968121304481666', '#Phineas and Ferb (season 2)#Phineas and Ferb (season 2)\\nThe second season of \"Phineas and Ferb\" started on Disney XD February 19, 2009, and on Disney Channel March 27, 2009.\\nA preview of the season was on January 23, 2009 on Toon Disney, with the episode \"Tip of the Day\".\\nThe season features two step-brothers on summer vacation trying to make every day the best day ever, while their sister tries to bust them.\\nThe five main characters are: brothers Phineas Flynn and Ferb Fletcher, their older sister Candace Flynn, secret agent Perry the Platypus, and the evil Dr.\\nHeinz Doofenshmirtz.#0.6011711760160685', '#Battiscombe Gunn#Battiscombe Gunn\\nBattiscombe \"Jack\" George Gunn, {\\'1\\': \", \\'2\\': \", \\'3\\': \", \\'4\\': \"} (30 June 1883 – 27 February 1950) was an English Egyptologist and philologist.\\nHe published his first translation from Egyptian in 1906.\\nHe translated inscriptions for many important excavations and sites, including Fayum, Saqqara, Amarna, Giza and Luxor (including Tutankhamun).\\nHe was curator at the Egyptian Museum in Cairo and at the University Museum at the University of Pennsylvania in Philadelphia.\\nIn 1934 he was appointed Professor of Egyptology at the University of Oxford, a chair he held until his death in 1950.#0.5', '#Udai Kumar#Udai Kumar\\nMr.\\nUdai Kumar is the Managing Director and CEO of the Metropolitan Stock Exchange of India Ltd (MSEI) since February 2016.\\nMSEI is India’s youngest and one of the three stock exchanges recognized by country’s securities market regulator - Securities and Exchange Board of India (SEBI).\\nMr.\\nKumar served as Interim Chief Executive Officer and Interim Managing Director of Metropolitan Stock Exchange of India Ltd.\\nfrom 10 October 2015 to February 2016.\\nHe has also served as Managing Director of Metropolitan Clearing Corporation of India Ltd (MCCIL) (Formerly, MCX-SX Clearing Corporation Ltd (MCX-SXCCL).\\nHe also serves as a Director of Metropolitan Stock Exchange of India Ltd.#0.5', \"#Archery at the Commonwealth Games#Archery at the Commonwealth Games\\nArchery is one of the optional sports at the quadrennial Commonwealth Games competition.\\nIt has been a Commonwealth Games sport since 1982, but has only featured twice in the competition's history; at the 1982 Commonwealth Games and at the 2010 Commonwealth Games.\\nIt is an optional sport and may or may not be included in the sporting programme of each edition of the Games.\\nThe host country of the games decides whether to include it.#0.5\", '#Fred Gehrke#Fred Gehrke\\nClarence Fred Gehrke (April 24, 1918 – February 9, 2002) was an American football player and executive.\\nHe played in the National Football League (NFL) for the Cleveland / Los Angeles Rams, San Francisco 49ers and Chicago Cardinals from 1940 through 1950.\\nTo boost team morale, Gehrke designed and painted the Los Angeles Rams logo in 1948, which was the first painted on the helmets of an NFL team.\\nHe later served as the general manager of the Denver Broncos from 1977 through 1981.\\nHe is the great-grandfather of Miami Marlin Christian Yelich#213.70252990722656']\n",
      "问题：   Retrieve the MLB Draft details.   答案： \n",
      "\n",
      "**Answer:**  \n",
      "1. Christian Yelich was drafted by the Miami Marlins in the 1st round (23rd overall) of the 2010 MLB Draft.  \n",
      "2. Chris Sale was selected 13th overall by the Chicago White Sox in the 2010 MLB Draft.  \n",
      "\n",
      "**Reason:**  \n",
      "The document under #Christian Yelich states his 2010 draft details explicitly. The document under #Chris Sale also specifies his 2010 draft by the Chicago White Sox. No other MLB Draft details are mentioned in the provided documents.\n",
      "['#Christian Yelich#Christian Yelich\\nChristian Stephen Yelich (born December 5, 1991) is an American professional baseball left fielder for the Miami Marlins of Major League Baseball (MLB).\\nYelich was drafted out of high school by the Marlins in the 1st round (23rd overall) of the 2010 Major League Baseball Draft.\\nHe stands 6 feet 3 inches and weighs 195 pounds.#0.9292911853658834', '#Super Bowl XLII#Super Bowl XLII\\nSuper Bowl XLII was an American football game between the National Football Conference (NFC) champion New York Giants and the American Football Conference (AFC) champion New England Patriots to decide the National Football League (NFL) champion for the 2007 season.\\nThe Giants defeated the Patriots by the score of 17–14.\\nThe game was played on February 3, 2008, at University of Phoenix Stadium in Glendale, Arizona.#0.8587928499032151', '#Bad Religion#Bad Religion\\nBad Religion is an American punk rock band that formed in Los Angeles, California, in 1980.\\nThey make extensive use of three-part vocal harmonies (which they refer to in their album liner notes as the \"oozin\\' aahs\") and guitar solos, and are known for their lyrics, which cover topics such as criticism of religion, political commentary and society in general.\\nThe band\\'s lineup has changed several times over its lifespan, with lead vocalist Greg Graffin being the only consistent member; the current lineup, however, features three of the band\\'s four original members (Graffin, Brett Gurewitz and Jay Bentley).\\nTo date, Bad Religion has released sixteen studio albums, two live albums, three compilation albums, three EPs (one of which is composed of covers of Christmas songs) and two DVDs (which were both recorded live).\\nThey are considered to be one of the best-selling punk rock acts of all time, having sold over five million albums worldwide.#0.8576274706547857', \"#Cropper, Kentucky#Cropper, Kentucky\\nCropper is an unincorporated community within Shelby County, Kentucky, United States.\\nIt was also known as Croppers Depot.\\nTheir post office is closed.\\nThe town of Cropper (Population Cal.\\nat 205 in 2010) is located in northeast Shelby County, Kentucky.\\nThe origin of its name comes from the town's founder James Cropper, a blacksmith and store keeper who was the first person to build a house there sometime in the 1790s.\\nHe also was the town's first postmaster.\\nThe majority of Cropper's original citizens were members of the Low Dutch colony who were in the area as early as 1786.\\nIn 1807, a new group of settlers from Virginia increased the town's population.\\nIn 1855, the Louisville and Nashville Railroad (L and N) along with a depot opened on the east end of town.\\nA hotel soon opened afterwards.\\nThis railroad line was closed in the early 1970s.\\nAnother occurrence, in 1855, was the founding of Union Grove Church.\\nThis church had three different denominations that included Christian, Methodist and Baptist.\\nThe only cemetery in Cropper is on the church grounds.\\nIn June 1900, the Baptist separated from the Union Church, and by 1903 it had its own building.\\nIn 1967, the Union Grove Church was renamed Cropper Christian Church.\\nIn 1905, a bank was opened by Ben Allen Thomas, but it was closed in 1921.\\nAn 1882 map shows the first school in Cropper which was a large two-story building with grades one through twelve.\\nIt burned in 1951 and was replaced with a one-story elementary school.\\nThe team mascot was the Yellow Jackets.#0.8572445966010533\", '#Chris Sale#Chris Sale\\nChristopher Allen Sale (born March 30, 1989), nicknamed The Condor, is an American professional baseball pitcher for the Boston Red Sox of Major League Baseball (MLB).\\nSale was selected 13th overall in the 2010 Major League Baseball draft by the Chicago White Sox and made his MLB debut with them in 2010.\\nHe is a six-time MLB All-Star, and he led the American League in strikeouts in 2015.\\nPrior to playing professionally, he played college baseball for Florida Gulf Coast University.#0.8552329844473918', '#Super Bowl LII#Super Bowl LII\\nSuper Bowl LII, the 52nd Super Bowl and the 48th modern-era National Football League (NFL) championship game, will decide the league champion for the 2017 NFL season.\\nThe game is scheduled to be held on February 4, 2018, at U.\\nS.\\nBank Stadium in Minneapolis, Minnesota, the second Super Bowl in Minneapolis, which previously hosted Super Bowl XXVI in 1992.\\nThe game will be televised in the United States by NBC.#0.8531543439448012', '#Family Guy#Family Guy\\nFamily Guy is an American animated sitcom created by Seth MacFarlane for the Fox Broadcasting Company.\\nThe series centers on the Griffins, a family consisting of parents Peter and Lois; their children, Meg, Chris, and Stewie; and their anthropomorphic pet dog, Brian.\\nThe show is set in the fictional city of Quahog, Rhode Island, and exhibits much of its humor in the form of cutaway gags that often lampoon American culture.#0.7966283664607408', '#Phineas and Ferb (season 2)#Phineas and Ferb (season 2)\\nThe second season of \"Phineas and Ferb\" started on Disney XD February 19, 2009, and on Disney Channel March 27, 2009.\\nA preview of the season was on January 23, 2009 on Toon Disney, with the episode \"Tip of the Day\".\\nThe season features two step-brothers on summer vacation trying to make every day the best day ever, while their sister tries to bust them.\\nThe five main characters are: brothers Phineas Flynn and Ferb Fletcher, their older sister Candace Flynn, secret agent Perry the Platypus, and the evil Dr.\\nHeinz Doofenshmirtz.#0.6009297136670804', '#Battiscombe Gunn#Battiscombe Gunn\\nBattiscombe \"Jack\" George Gunn, {\\'1\\': \", \\'2\\': \", \\'3\\': \", \\'4\\': \"} (30 June 1883 – 27 February 1950) was an English Egyptologist and philologist.\\nHe published his first translation from Egyptian in 1906.\\nHe translated inscriptions for many important excavations and sites, including Fayum, Saqqara, Amarna, Giza and Luxor (including Tutankhamun).\\nHe was curator at the Egyptian Museum in Cairo and at the University Museum at the University of Pennsylvania in Philadelphia.\\nIn 1934 he was appointed Professor of Egyptology at the University of Oxford, a chair he held until his death in 1950.#0.5', '#Fred Gehrke#Fred Gehrke\\nClarence Fred Gehrke (April 24, 1918 – February 9, 2002) was an American football player and executive.\\nHe played in the National Football League (NFL) for the Cleveland / Los Angeles Rams, San Francisco 49ers and Chicago Cardinals from 1940 through 1950.\\nTo boost team morale, Gehrke designed and painted the Los Angeles Rams logo in 1948, which was the first painted on the helmets of an NFL team.\\nHe later served as the general manager of the Denver Broncos from 1977 through 1981.\\nHe is the great-grandfather of Miami Marlin Christian Yelich#213.70252990722656']\n",
      "*********输出进行排序后召回的结果**************\n",
      "['#Bad Religion#Bad Religion\\nBad Religion is an American punk rock band that formed in Los Angeles, California, in 1980.\\nThey make extensive use of three-part vocal harmonies (which they refer to in their album liner notes as the \"oozin\\' aahs\") and guitar solos, and are known for their lyrics, which cover topics such as criticism of religion, political commentary and society in general.\\nThe band\\'s lineup has changed several times over its lifespan, with lead vocalist Greg Graffin being the only consistent member; the current lineup, however, features three of the band\\'s four original members (Graffin, Brett Gurewitz and Jay Bentley).\\nTo date, Bad Religion has released sixteen studio albums, two live albums, three compilation albums, three EPs (one of which is composed of covers of Christmas songs) and two DVDs (which were both recorded live).\\nThey are considered to be one of the best-selling punk rock acts of all time, having sold over five million albums worldwide.', '#Family Guy#Family Guy\\nFamily Guy is an American animated sitcom created by Seth MacFarlane for the Fox Broadcasting Company.\\nThe series centers on the Griffins, a family consisting of parents Peter and Lois; their children, Meg, Chris, and Stewie; and their anthropomorphic pet dog, Brian.\\nThe show is set in the fictional city of Quahog, Rhode Island, and exhibits much of its humor in the form of cutaway gags that often lampoon American culture.', '#Fred Gehrke#Fred Gehrke\\nClarence Fred Gehrke (April 24, 1918 – February 9, 2002) was an American football player and executive.\\nHe played in the National Football League (NFL) for the Cleveland / Los Angeles Rams, San Francisco 49ers and Chicago Cardinals from 1940 through 1950.\\nTo boost team morale, Gehrke designed and painted the Los Angeles Rams logo in 1948, which was the first painted on the helmets of an NFL team.\\nHe later served as the general manager of the Denver Broncos from 1977 through 1981.\\nHe is the great-grandfather of Miami Marlin Christian Yelich', '#Christian Yelich#Christian Yelich\\nChristian Stephen Yelich (born December 5, 1991) is an American professional baseball left fielder for the Miami Marlins of Major League Baseball (MLB).\\nYelich was drafted out of high school by the Marlins in the 1st round (23rd overall) of the 2010 Major League Baseball Draft.\\nHe stands 6 feet 3 inches and weighs 195 pounds.', '#Paramount Pictures#Paramount Pictures\\nParamount Pictures Corporation (also known simply as Paramount) is an American film studio based in Hollywood, California, that has been a subsidiary of the American media conglomerate Viacom since 1994.\\nParamount is the fifth oldest surviving film studio in the world, the second oldest in the United States, and the sole member of the \"Big Six\" film studios still located in the Los Angeles neighborhood of Hollywood.\\nIn 1916, film producer Adolph Zukor contracted 22 actors and actresses and honored each with a star on the logo.\\nThese fortunate few would become the first \"movie stars.\\n\"\\n In 2014, Paramount Pictures became the first major Hollywood studio to distribute all of its films in digital form only.', '#Super Bowl LII#Super Bowl LII\\nSuper Bowl LII, the 52nd Super Bowl and the 48th modern-era National Football League (NFL) championship game, will decide the league champion for the 2017 NFL season.\\nThe game is scheduled to be held on February 4, 2018, at U.\\nS.\\nBank Stadium in Minneapolis, Minnesota, the second Super Bowl in Minneapolis, which previously hosted Super Bowl XXVI in 1992.\\nThe game will be televised in the United States by NBC.', \"#Archery at the Commonwealth Games#Archery at the Commonwealth Games\\nArchery is one of the optional sports at the quadrennial Commonwealth Games competition.\\nIt has been a Commonwealth Games sport since 1982, but has only featured twice in the competition's history; at the 1982 Commonwealth Games and at the 2010 Commonwealth Games.\\nIt is an optional sport and may or may not be included in the sporting programme of each edition of the Games.\\nThe host country of the games decides whether to include it.\", '#Phineas and Ferb (season 2)#Phineas and Ferb (season 2)\\nThe second season of \"Phineas and Ferb\" started on Disney XD February 19, 2009, and on Disney Channel March 27, 2009.\\nA preview of the season was on January 23, 2009 on Toon Disney, with the episode \"Tip of the Day\".\\nThe season features two step-brothers on summer vacation trying to make every day the best day ever, while their sister tries to bust them.\\nThe five main characters are: brothers Phineas Flynn and Ferb Fletcher, their older sister Candace Flynn, secret agent Perry the Platypus, and the evil Dr.\\nHeinz Doofenshmirtz.', '#Battiscombe Gunn#Battiscombe Gunn\\nBattiscombe \"Jack\" George Gunn, {\\'1\\': \", \\'2\\': \", \\'3\\': \", \\'4\\': \"} (30 June 1883 – 27 February 1950) was an English Egyptologist and philologist.\\nHe published his first translation from Egyptian in 1906.\\nHe translated inscriptions for many important excavations and sites, including Fayum, Saqqara, Amarna, Giza and Luxor (including Tutankhamun).\\nHe was curator at the Egyptian Museum in Cairo and at the University Museum at the University of Pennsylvania in Philadelphia.\\nIn 1934 he was appointed Professor of Egyptology at the University of Oxford, a chair he held until his death in 1950.', '#Chris Sale#Chris Sale\\nChristopher Allen Sale (born March 30, 1989), nicknamed The Condor, is an American professional baseball pitcher for the Boston Red Sox of Major League Baseball (MLB).\\nSale was selected 13th overall in the 2010 Major League Baseball draft by the Chicago White Sox and made his MLB debut with them in 2010.\\nHe is a six-time MLB All-Star, and he led the American League in strikeouts in 2015.\\nPrior to playing professionally, he played college baseball for Florida Gulf Coast University.', '#Super Bowl XLII#Super Bowl XLII\\nSuper Bowl XLII was an American football game between the National Football Conference (NFC) champion New York Giants and the American Football Conference (AFC) champion New England Patriots to decide the National Football League (NFL) champion for the 2007 season.\\nThe Giants defeated the Patriots by the score of 17–14.\\nThe game was played on February 3, 2008, at University of Phoenix Stadium in Glendale, Arizona.', '#Premiere (magazine)#Premiere (magazine)\\nPremiere was an American and New York City-based film magazine published by Hachette Filipacchi Media U.\\nS.\\n, between 1987 and 2010.\\nThe original version of the magazine, \"Première\", was established in France in 1976 and is still being published there.', '#Edward F. Wente#Edward F. Wente\\nEdward F.\\nWente (born 1930) is an American professor emeritus of Egyptology and the Department of Near Eastern Languages and Civilizations at the University of Chicago.\\nHe received his Ph.\\nD from the University of Chicago in 1959 and lectured there from 1963 to 1996.\\nHe is also a longstanding member of the Oriental Institute, Chicago.\\nOne of his major works is \"Letters from Ancient Egypt\" (1990), published by the Scholarly Press.\\nIn 1999 the Oriental Institute published a collection of essays by Egyptologists in honor of Edward Wente\" \"Gold of Praise: Studies on Ancient Egypt in Honor of Edward F.\\nWente\"\".', \"#Cropper, Kentucky#Cropper, Kentucky\\nCropper is an unincorporated community within Shelby County, Kentucky, United States.\\nIt was also known as Croppers Depot.\\nTheir post office is closed.\\nThe town of Cropper (Population Cal.\\nat 205 in 2010) is located in northeast Shelby County, Kentucky.\\nThe origin of its name comes from the town's founder James Cropper, a blacksmith and store keeper who was the first person to build a house there sometime in the 1790s.\\nHe also was the town's first postmaster.\\nThe majority of Cropper's original citizens were members of the Low Dutch colony who were in the area as early as 1786.\\nIn 1807, a new group of settlers from Virginia increased the town's population.\\nIn 1855, the Louisville and Nashville Railroad (L and N) along with a depot opened on the east end of town.\\nA hotel soon opened afterwards.\\nThis railroad line was closed in the early 1970s.\\nAnother occurrence, in 1855, was the founding of Union Grove Church.\\nThis church had three different denominations that included Christian, Methodist and Baptist.\\nThe only cemetery in Cropper is on the church grounds.\\nIn June 1900, the Baptist separated from the Union Church, and by 1903 it had its own building.\\nIn 1967, the Union Grove Church was renamed Cropper Christian Church.\\nIn 1905, a bank was opened by Ben Allen Thomas, but it was closed in 1921.\\nAn 1882 map shows the first school in Cropper which was a large two-story building with grades one through twelve.\\nIt burned in 1951 and was replaced with a one-story elementary school.\\nThe team mascot was the Yellow Jackets.\", '#Udai Kumar#Udai Kumar\\nMr.\\nUdai Kumar is the Managing Director and CEO of the Metropolitan Stock Exchange of India Ltd (MSEI) since February 2016.\\nMSEI is India’s youngest and one of the three stock exchanges recognized by country’s securities market regulator - Securities and Exchange Board of India (SEBI).\\nMr.\\nKumar served as Interim Chief Executive Officer and Interim Managing Director of Metropolitan Stock Exchange of India Ltd.\\nfrom 10 October 2015 to February 2016.\\nHe has also served as Managing Director of Metropolitan Clearing Corporation of India Ltd (MCCIL) (Formerly, MCX-SX Clearing Corporation Ltd (MCX-SXCCL).\\nHe also serves as a Director of Metropolitan Stock Exchange of India Ltd.', '#Gordon &quot;Inferno&quot; Collection#Gordon &quot;Inferno&quot; Collection\\nThe Robert W.\\nGordon \"Inferno\" Collection is about 200 pages of original and typescript copies of correspondence and letters that were separated from the main collection of the Archive of Folk Song, Library of Congress, by Robert W.\\nGordon, first head of the folklife department in the Library of Congress, or a third party, due to their bawdy and scatological subject matter.\\nIn January 1974, Debora Kodish, folklorist and founder of the Philadelphia Folklore Project, prepared a 14-page index to the collection that lists informant, date, location and title of the texts.', '#J. Habakuk Jephson\\'s Statement#J. Habakuk Jephson\\'s Statement\\n\"J.\\nHabakuk Jephson\\'s Statement\" is an 1884 short story by young Sir Arthur Conan Doyle.\\nIt is in the form of a first-person testimony by a survivor of the Marie Celeste, a fictionalised version of the \"Mary Celeste\", a ship found mysteriously abandoned and adrift in the Atlantic Ocean in 1872.\\nConan Doyle\\'s story was published anonymously in the January 1884 issue of the respected \"Cornhill Magazine\".', '#Phineas and Ferb (season 1)#Phineas and Ferb (season 1)\\nThe first season of \"Phineas and Ferb\" aired on Disney Channel from August 17, 2007 to February 8, 2009.\\nThe series introduces two step-brothers on summer vacation trying to make every day the best day ever, while their sister tries to bust them.\\nThe five main characters are brothers Phineas Flynn and Ferb Fletcher, their older sister Candace Flynn, secret agent Perry the Platypus, and the evil Dr.\\nHeinz Doofenshmirtz.', '#Inside Bad Company 1974–1982#Inside Bad Company 1974–1982\\nInside Bad Company 1974–1982 is a documentary about the English hard rock band Bad Company released in 2005.\\nThe DVD reviews Bad Company on stage, on film and on record, with film never previously available.\\nFounding member Simon Kirke and biographer Steven Rosen revisit on the life and work of the classic era of Bad Company.\\nThe DVD covers the band in the 1970s, 1980s of the original line up of Paul Rodgers, Mick Ralphs, Boz Burrell and Simon Kirke.\\nFeatured are some of the band\\'s biggest hits, including \"Can\\'t Get Enough\", \"Feel Like Makin\\' Love\" and of course, \"Bad Company\", but no complete performances of any songs are shown, only clips of them.\\nThe documentary has interview segments with Kirke, (the only member to be with the band for its entire history) and has instrumental demonstrations showing how the songs were written and played.', '#Notorious (soundtrack)#Notorious (soundtrack)\\nNotorious: Music from and Inspired by the Original Motion Picture is the official soundtrack to the 2009 biopic film \"Notorious\" based on the life and death of rapper The Notorious B.\\nI.\\nG.\\n.\\nIt features mostly his previously heard songs, inclusively the ones harder to find such as \"Party and Bullshit\" and \"One More Chance (Remix)\".\\nIt includes two original songs \"Brooklyn Go Hard\" by Jay-Z and a tribute to the rapper by Jadakiss and widow Faith Evans called \"Letter to B.\\nI.\\nG.\\n\", as well as three unreleased demos by him and a song with Christopher \"CJ\" Wallace, Jr.\\n, his son.\\ns of March 2009 , the album sold roughly 124,490 copies.\\n\"Notorious Thugs\", \"Notorious B.\\nI.\\nG.\\n\", \"One More Chance (Remix)\", \"Brooklyn Go Hard\", \"Kick in the Door\", \"What\\'s Beef\", \"The World Is Filled.\\n.\\n.\\n\", \"One More Chance / The Legacy Remix\" and \"Love No Ho\" do not feature in the movie, but are included on the album.', '#Reginald Engelbach#Reginald Engelbach\\nReginald Engelbach (July 9, 1888 – February 26, 1946) was an English Egyptologist and engineer.\\nHe is mainly known for his works in the Egyptian Museum of Cairo, above all the compilation of a register of artifacts belonging of the museum.', '#Männer haben kein Gehirn#Männer haben kein Gehirn\\nMänner haben kein Gehirn (Men don\\'t have Brains) is a promotional audiobook by German punk rock band Die Ärzte.\\nIt is a sampler of the 2001 \"Lese-Tour\" (\"reading tour\") \"Die Ärzte - Hören, Sehen, Sagen .\\n.\\n.\\nNicht!\\n- Die Lesetour\" featuring Markus Karg, the author of the official biography \"Ein überdimensionales Meerschwein frisst die Erde auf\".\\nThe original promo CD was only released for official fan club members, however, the audio files can still be downloaded from the band\\'s official homepage.', '#Alexander Garvin#Alexander Garvin\\nAlexander Garvin (born March 8, 1941) is a noted American urban planner, educator, and author.\\nHe is currently in private practice at AGA Public Realm Strategists in New York City and is also an adjunct professor at the Yale School of Architecture, where he has taught since 1967.\\nHe is widely known for creating the vision plan of Atlanta\\'s proposed greenbelt park system, the Atlanta BeltLine, serving as planning director for New York City’s 2012 Olympic Games bid, and overseeing efforts to redevelop lower Manhattan after the September 11th attacks as Vice President of Planning, Design, and Development for the Lower Manhattan Development Corporation.\\nGarvin has also written a number of books on the subject of planning including \"The Planning Game: Lessons from Great Cities\" and \"The American City: What Works, What Doesn\\'t\".\\nGarvin has also served in a variety of positions in New York City government including director of comprehensive planning.']\n",
      "**********************\n",
      "问题：   Identify the familial connection between Fred Gehrke and Christian Yelich in his legacy. 答案： \n",
      "\n",
      "Fred Gehrke is the great-grandfather of Christian Yelich. \n",
      "\n",
      "Reason: The document about Fred Gehrke explicitly states, \"He is the great-grandfather of Miami Marlin Christian Yelich,\" directly establishing the familial connection.\n",
      "['#Fred Gehrke#Fred Gehrke\\nClarence Fred Gehrke (April 24, 1918 – February 9, 2002) was an American football player and executive.\\nHe played in the National Football League (NFL) for the Cleveland / Los Angeles Rams, San Francisco 49ers and Chicago Cardinals from 1940 through 1950.\\nTo boost team morale, Gehrke designed and painted the Los Angeles Rams logo in 1948, which was the first painted on the helmets of an NFL team.\\nHe later served as the general manager of the Denver Broncos from 1977 through 1981.\\nHe is the great-grandfather of Miami Marlin Christian Yelich#0.9390309540719697', '#Family Guy#Family Guy\\nFamily Guy is an American animated sitcom created by Seth MacFarlane for the Fox Broadcasting Company.\\nThe series centers on the Griffins, a family consisting of parents Peter and Lois; their children, Meg, Chris, and Stewie; and their anthropomorphic pet dog, Brian.\\nThe show is set in the fictional city of Quahog, Rhode Island, and exhibits much of its humor in the form of cutaway gags that often lampoon American culture.#0.8530837724237134', '#Christian Yelich#Christian Yelich\\nChristian Stephen Yelich (born December 5, 1991) is an American professional baseball left fielder for the Miami Marlins of Major League Baseball (MLB).\\nYelich was drafted out of high school by the Marlins in the 1st round (23rd overall) of the 2010 Major League Baseball Draft.\\nHe stands 6 feet 3 inches and weighs 195 pounds.#0.7305315857669861', '#Phineas and Ferb (season 2)#Phineas and Ferb (season 2)\\nThe second season of \"Phineas and Ferb\" started on Disney XD February 19, 2009, and on Disney Channel March 27, 2009.\\nA preview of the season was on January 23, 2009 on Toon Disney, with the episode \"Tip of the Day\".\\nThe season features two step-brothers on summer vacation trying to make every day the best day ever, while their sister tries to bust them.\\nThe five main characters are: brothers Phineas Flynn and Ferb Fletcher, their older sister Candace Flynn, secret agent Perry the Platypus, and the evil Dr.\\nHeinz Doofenshmirtz.#0.6347175495023396', \"#Archery at the Commonwealth Games#Archery at the Commonwealth Games\\nArchery is one of the optional sports at the quadrennial Commonwealth Games competition.\\nIt has been a Commonwealth Games sport since 1982, but has only featured twice in the competition's history; at the 1982 Commonwealth Games and at the 2010 Commonwealth Games.\\nIt is an optional sport and may or may not be included in the sporting programme of each edition of the Games.\\nThe host country of the games decides whether to include it.#0.5\", '#Émile Brugsch#Émile Brugsch\\nÉmile Brugsch (February 24, 1842 in Berlin, Germany – January 14, 1930 in Nice, France) was a German-born Egyptologist whose career spanned the late 19th and early 20th centuries.\\nHe is known as the official who \"evacuated\" the mummies from the Deir el-Bahri Cache in 1881, and as being assistant curator of the Bulaq Museum - the core element of what is today\\'s Egyptian Museum.\\nHe was the brother of the Egyptologist Heinrich Karl Brugsch.#0.4209620561223687', '#Richard Speck#Richard Speck\\nRichard Benjamin Speck (December 6, 1941 – December 5, 1991) was an American mass murderer who systematically tortured, raped, and murdered eight student nurses from South Chicago Community Hospital on the night of July 13-14, 1966.#0.415421220091867', '#Jeff Orlowski#Jeff Orlowski\\nJeff Orlowski is an American filmmaker.\\nHe is best known for both directing and producing the Emmy Award-winning documentary \"Chasing Ice\" (2012) and \"Chasing Coral\" (2017).#0.41513348568438396', '#Reginald Engelbach#Reginald Engelbach\\nReginald Engelbach (July 9, 1888 – February 26, 1946) was an English Egyptologist and engineer.\\nHe is mainly known for his works in the Egyptian Museum of Cairo, above all the compilation of a register of artifacts belonging of the museum.#0.41282011085540254', \"#Bobbie Kilberg#Bobbie Kilberg\\nBobbie Kilberg (born Barbara Greene; October 25, 1944) is a Republican operative who has worked for Presidents Richard Nixon, Gerald Ford, George H.\\nW.\\nBush, and George W.\\nBush.\\nKilberg is currently the President and CEO of the Northern Virginia Technology Council and has been since 1998.\\nShe was briefly an attorney with the Washington law firm of Arnold & Porter from 1971 to 1973.\\nHer White House experiences include serving on the staff of President Richard Nixon's Domestic Policy Council, serving under President Gerald Ford as Associate Counsel and serving for President George H.\\nW.\\nBush as Deputy Assistant to the President for Public Liaison and as Director of the White House Office of Intergovernmental Affairs.#0.41211990705909163\"]\n",
      "问题：   Check if this familial connection is explicitly mentioned in the context of the 2010 MLB Draft. 答案： \n",
      "\n",
      "The familial connection between Fred Gehrke and Christian Yelich is not explicitly mentioned in the context of the 2010 MLB Draft. \n",
      "\n",
      "Reason: The document about Fred Gehrke states his relation to Christian Yelich outside of any Draft context, while Christian Yelich's 2010 Draft information does not reference his familial ties. The connection is noted in Gehrke's biography but not linked to the 2010 MLB Draft details.\n",
      "['#Super Bowl LII#Super Bowl LII\\nSuper Bowl LII, the 52nd Super Bowl and the 48th modern-era National Football League (NFL) championship game, will decide the league champion for the 2017 NFL season.\\nThe game is scheduled to be held on February 4, 2018, at U.\\nS.\\nBank Stadium in Minneapolis, Minnesota, the second Super Bowl in Minneapolis, which previously hosted Super Bowl XXVI in 1992.\\nThe game will be televised in the United States by NBC.#0.8921710631193358', '#Family Guy#Family Guy\\nFamily Guy is an American animated sitcom created by Seth MacFarlane for the Fox Broadcasting Company.\\nThe series centers on the Griffins, a family consisting of parents Peter and Lois; their children, Meg, Chris, and Stewie; and their anthropomorphic pet dog, Brian.\\nThe show is set in the fictional city of Quahog, Rhode Island, and exhibits much of its humor in the form of cutaway gags that often lampoon American culture.#0.8499505749935292', '#Phineas and Ferb (season 2)#Phineas and Ferb (season 2)\\nThe second season of \"Phineas and Ferb\" started on Disney XD February 19, 2009, and on Disney Channel March 27, 2009.\\nA preview of the season was on January 23, 2009 on Toon Disney, with the episode \"Tip of the Day\".\\nThe season features two step-brothers on summer vacation trying to make every day the best day ever, while their sister tries to bust them.\\nThe five main characters are: brothers Phineas Flynn and Ferb Fletcher, their older sister Candace Flynn, secret agent Perry the Platypus, and the evil Dr.\\nHeinz Doofenshmirtz.#0.6563411880392718', '#Phineas and Ferb (season 1)#Phineas and Ferb (season 1)\\nThe first season of \"Phineas and Ferb\" aired on Disney Channel from August 17, 2007 to February 8, 2009.\\nThe series introduces two step-brothers on summer vacation trying to make every day the best day ever, while their sister tries to bust them.\\nThe five main characters are brothers Phineas Flynn and Ferb Fletcher, their older sister Candace Flynn, secret agent Perry the Platypus, and the evil Dr.\\nHeinz Doofenshmirtz.#0.6461395551609252', \"#Archery at the Commonwealth Games#Archery at the Commonwealth Games\\nArchery is one of the optional sports at the quadrennial Commonwealth Games competition.\\nIt has been a Commonwealth Games sport since 1982, but has only featured twice in the competition's history; at the 1982 Commonwealth Games and at the 2010 Commonwealth Games.\\nIt is an optional sport and may or may not be included in the sporting programme of each edition of the Games.\\nThe host country of the games decides whether to include it.#0.5\", '#Fred Gehrke#Fred Gehrke\\nClarence Fred Gehrke (April 24, 1918 – February 9, 2002) was an American football player and executive.\\nHe played in the National Football League (NFL) for the Cleveland / Los Angeles Rams, San Francisco 49ers and Chicago Cardinals from 1940 through 1950.\\nTo boost team morale, Gehrke designed and painted the Los Angeles Rams logo in 1948, which was the first painted on the helmets of an NFL team.\\nHe later served as the general manager of the Denver Broncos from 1977 through 1981.\\nHe is the great-grandfather of Miami Marlin Christian Yelich#0.5', '#Christian Yelich#Christian Yelich\\nChristian Stephen Yelich (born December 5, 1991) is an American professional baseball left fielder for the Miami Marlins of Major League Baseball (MLB).\\nYelich was drafted out of high school by the Marlins in the 1st round (23rd overall) of the 2010 Major League Baseball Draft.\\nHe stands 6 feet 3 inches and weighs 195 pounds.#0.4966723061478344', \"#Kyle Parker#Kyle Parker\\nKyle James Parker (born September 30, 1989) is an American professional baseball left fielder who is currently a free agent.\\nParker was highly regarded during his prep career as both a baseball and football player and chose to attend Clemson University to play both sports.\\nAfter redshirting during his freshman season, Parker spent the 2009 and 2010 seasons as the starting quarterback for the Clemson Tigers football team.\\nHe was also an integral part of the school's baseball team.\\nParker was drafted by the Colorado Rockies as the 26th overall pick in the 2010 Major League Baseball Draft and made his Major League Baseball (MLB) debut with them in 2014.#0.4231250724933306\", '#Steve Spurrier#Steve Spurrier\\nStephen Orr Spurrier (born April 20, 1945) is a former American football player and coach.\\nSpurrier served as the head coach of three college and two professional teams.\\nHe was also a standout college football player, and spent a decade playing professionally in the National Football League (NFL).\\nSpurrier retired from coaching in 2015 and now serves as an ambassador and consultant for the University of Florida\\'s athletic department.\\nHe is nicknamed the \"Head Ball Coach\".#0.4193434204053227', '#Kevin Tierney#Kevin Tierney\\nKevin Tierney is an Irish-Canadian  film producer from Montreal who earned a Genie Award for Best Motion Picture for the film \"Bon Cop, Bad Cop\", for which he also wrote the script.\\nHe has also produced other titles including \"One Dead Indian\", \"Good Neighbours\" and \"Twist\".\\nHe is the father of Canadian actor and director Jacob Tierney.\\nHis directorial debut is \"French Immersion\".\\nHe attended the McGill faculty of Education in 1973 and taught abroad and in Montreal for 12 years.#0.4153543588275593']\n",
      "问题：   Retrieve the explicit mention details about the familial connection's nature and its relation to the draft. 答案： \n",
      "\n",
      "Answer: The familial connection between Fred Gehrke and Christian Yelich is not explicitly mentioned in the context of the 2010 MLB Draft. \n",
      "\n",
      "Reason: The document about Fred Gehrke states his relation to Christian Yelich outside of any Draft context, while Christian Yelich's 2010 Draft information does not reference his familial ties. The connection is noted in Gehrke's biography but not linked to the 2010 MLB Draft details.\n",
      "[\"#Archery at the Commonwealth Games#Archery at the Commonwealth Games\\nArchery is one of the optional sports at the quadrennial Commonwealth Games competition.\\nIt has been a Commonwealth Games sport since 1982, but has only featured twice in the competition's history; at the 1982 Commonwealth Games and at the 2010 Commonwealth Games.\\nIt is an optional sport and may or may not be included in the sporting programme of each edition of the Games.\\nThe host country of the games decides whether to include it.#0.9027418978245266\", '#Family Guy#Family Guy\\nFamily Guy is an American animated sitcom created by Seth MacFarlane for the Fox Broadcasting Company.\\nThe series centers on the Griffins, a family consisting of parents Peter and Lois; their children, Meg, Chris, and Stewie; and their anthropomorphic pet dog, Brian.\\nThe show is set in the fictional city of Quahog, Rhode Island, and exhibits much of its humor in the form of cutaway gags that often lampoon American culture.#0.8462423742588199', '#Phineas and Ferb (season 2)#Phineas and Ferb (season 2)\\nThe second season of \"Phineas and Ferb\" started on Disney XD February 19, 2009, and on Disney Channel March 27, 2009.\\nA preview of the season was on January 23, 2009 on Toon Disney, with the episode \"Tip of the Day\".\\nThe season features two step-brothers on summer vacation trying to make every day the best day ever, while their sister tries to bust them.\\nThe five main characters are: brothers Phineas Flynn and Ferb Fletcher, their older sister Candace Flynn, secret agent Perry the Platypus, and the evil Dr.\\nHeinz Doofenshmirtz.#0.6532936211672667', '#Super Bowl LII#Super Bowl LII\\nSuper Bowl LII, the 52nd Super Bowl and the 48th modern-era National Football League (NFL) championship game, will decide the league champion for the 2017 NFL season.\\nThe game is scheduled to be held on February 4, 2018, at U.\\nS.\\nBank Stadium in Minneapolis, Minnesota, the second Super Bowl in Minneapolis, which previously hosted Super Bowl XXVI in 1992.\\nThe game will be televised in the United States by NBC.#0.5', '#Christian Yelich#Christian Yelich\\nChristian Stephen Yelich (born December 5, 1991) is an American professional baseball left fielder for the Miami Marlins of Major League Baseball (MLB).\\nYelich was drafted out of high school by the Marlins in the 1st round (23rd overall) of the 2010 Major League Baseball Draft.\\nHe stands 6 feet 3 inches and weighs 195 pounds.#0.5', '#Fred Gehrke#Fred Gehrke\\nClarence Fred Gehrke (April 24, 1918 – February 9, 2002) was an American football player and executive.\\nHe played in the National Football League (NFL) for the Cleveland / Los Angeles Rams, San Francisco 49ers and Chicago Cardinals from 1940 through 1950.\\nTo boost team morale, Gehrke designed and painted the Los Angeles Rams logo in 1948, which was the first painted on the helmets of an NFL team.\\nHe later served as the general manager of the Denver Broncos from 1977 through 1981.\\nHe is the great-grandfather of Miami Marlin Christian Yelich#0.49274457861192866', \"#Kyle Parker#Kyle Parker\\nKyle James Parker (born September 30, 1989) is an American professional baseball left fielder who is currently a free agent.\\nParker was highly regarded during his prep career as both a baseball and football player and chose to attend Clemson University to play both sports.\\nAfter redshirting during his freshman season, Parker spent the 2009 and 2010 seasons as the starting quarterback for the Clemson Tigers football team.\\nHe was also an integral part of the school's baseball team.\\nParker was drafted by the Colorado Rockies as the 26th overall pick in the 2010 Major League Baseball Draft and made his Major League Baseball (MLB) debut with them in 2014.#0.433392233787722\", '#Nick Schmidt#Nick Schmidt\\nNick Schmidt (born October 10, 1985) is an American professional baseball pitcher who is a free agent.\\nSchmidt was drafted by the San Diego Padres of Major League Baseball with the 23rd overall pick in the 2007 Major League Baseball Draft.\\nHe played college baseball for the Arkansas Razorbacks.#0.42608406142173977', '#Manny Machado#Manny Machado\\nManuel Arturo Machado (] ; born July 6, 1992) is an American professional baseball third baseman and shortstop for the Baltimore Orioles of Major League Baseball (MLB).\\nHe attended Brito High School in Miami and was drafted by the Orioles with the third overall pick in the 2010 Major League Baseball draft.\\nHe bats and throws right-handed.#0.4241302574420676', \"#Aaron Blair#Aaron Blair\\nAaron Daniel Blair (born May 26, 1992) is an American professional baseball pitcher for the Atlanta Braves of Major League Baseball (MLB).\\nBlair attended Marshall University, where he played baseball for the Marshall Thundering Herd baseball team.\\nPrior to that, he attended Spring Valley High School in Spring Valley, Nevada and played for the school's baseball team.\\nThe Houston Astros selected him in the 21st round of the 2010 Major League Baseball Draft but decided to go to college instead.\\nThe Arizona Diamondbacks selected Blair with the 36th pick of the 2013 Major League Baseball Draft.\\nHe was traded to the Atlanta Braves by the Diamondbacks as part of a five-player deal announced December 9, 2015.#0.4215961927053757\"]\n",
      "*********输出进行排序后召回的结果**************\n",
      "['#Family Guy#Family Guy\\nFamily Guy is an American animated sitcom created by Seth MacFarlane for the Fox Broadcasting Company.\\nThe series centers on the Griffins, a family consisting of parents Peter and Lois; their children, Meg, Chris, and Stewie; and their anthropomorphic pet dog, Brian.\\nThe show is set in the fictional city of Quahog, Rhode Island, and exhibits much of its humor in the form of cutaway gags that often lampoon American culture.', \"#Archery at the Commonwealth Games#Archery at the Commonwealth Games\\nArchery is one of the optional sports at the quadrennial Commonwealth Games competition.\\nIt has been a Commonwealth Games sport since 1982, but has only featured twice in the competition's history; at the 1982 Commonwealth Games and at the 2010 Commonwealth Games.\\nIt is an optional sport and may or may not be included in the sporting programme of each edition of the Games.\\nThe host country of the games decides whether to include it.\", '#Fred Gehrke#Fred Gehrke\\nClarence Fred Gehrke (April 24, 1918 – February 9, 2002) was an American football player and executive.\\nHe played in the National Football League (NFL) for the Cleveland / Los Angeles Rams, San Francisco 49ers and Chicago Cardinals from 1940 through 1950.\\nTo boost team morale, Gehrke designed and painted the Los Angeles Rams logo in 1948, which was the first painted on the helmets of an NFL team.\\nHe later served as the general manager of the Denver Broncos from 1977 through 1981.\\nHe is the great-grandfather of Miami Marlin Christian Yelich', '#Super Bowl LII#Super Bowl LII\\nSuper Bowl LII, the 52nd Super Bowl and the 48th modern-era National Football League (NFL) championship game, will decide the league champion for the 2017 NFL season.\\nThe game is scheduled to be held on February 4, 2018, at U.\\nS.\\nBank Stadium in Minneapolis, Minnesota, the second Super Bowl in Minneapolis, which previously hosted Super Bowl XXVI in 1992.\\nThe game will be televised in the United States by NBC.', '#Phineas and Ferb (season 2)#Phineas and Ferb (season 2)\\nThe second season of \"Phineas and Ferb\" started on Disney XD February 19, 2009, and on Disney Channel March 27, 2009.\\nA preview of the season was on January 23, 2009 on Toon Disney, with the episode \"Tip of the Day\".\\nThe season features two step-brothers on summer vacation trying to make every day the best day ever, while their sister tries to bust them.\\nThe five main characters are: brothers Phineas Flynn and Ferb Fletcher, their older sister Candace Flynn, secret agent Perry the Platypus, and the evil Dr.\\nHeinz Doofenshmirtz.', '#Christian Yelich#Christian Yelich\\nChristian Stephen Yelich (born December 5, 1991) is an American professional baseball left fielder for the Miami Marlins of Major League Baseball (MLB).\\nYelich was drafted out of high school by the Marlins in the 1st round (23rd overall) of the 2010 Major League Baseball Draft.\\nHe stands 6 feet 3 inches and weighs 195 pounds.', \"#Kyle Parker#Kyle Parker\\nKyle James Parker (born September 30, 1989) is an American professional baseball left fielder who is currently a free agent.\\nParker was highly regarded during his prep career as both a baseball and football player and chose to attend Clemson University to play both sports.\\nAfter redshirting during his freshman season, Parker spent the 2009 and 2010 seasons as the starting quarterback for the Clemson Tigers football team.\\nHe was also an integral part of the school's baseball team.\\nParker was drafted by the Colorado Rockies as the 26th overall pick in the 2010 Major League Baseball Draft and made his Major League Baseball (MLB) debut with them in 2014.\", '#Phineas and Ferb (season 1)#Phineas and Ferb (season 1)\\nThe first season of \"Phineas and Ferb\" aired on Disney Channel from August 17, 2007 to February 8, 2009.\\nThe series introduces two step-brothers on summer vacation trying to make every day the best day ever, while their sister tries to bust them.\\nThe five main characters are brothers Phineas Flynn and Ferb Fletcher, their older sister Candace Flynn, secret agent Perry the Platypus, and the evil Dr.\\nHeinz Doofenshmirtz.', '#Émile Brugsch#Émile Brugsch\\nÉmile Brugsch (February 24, 1842 in Berlin, Germany – January 14, 1930 in Nice, France) was a German-born Egyptologist whose career spanned the late 19th and early 20th centuries.\\nHe is known as the official who \"evacuated\" the mummies from the Deir el-Bahri Cache in 1881, and as being assistant curator of the Bulaq Museum - the core element of what is today\\'s Egyptian Museum.\\nHe was the brother of the Egyptologist Heinrich Karl Brugsch.', '#Richard Speck#Richard Speck\\nRichard Benjamin Speck (December 6, 1941 – December 5, 1991) was an American mass murderer who systematically tortured, raped, and murdered eight student nurses from South Chicago Community Hospital on the night of July 13-14, 1966.', '#Jeff Orlowski#Jeff Orlowski\\nJeff Orlowski is an American filmmaker.\\nHe is best known for both directing and producing the Emmy Award-winning documentary \"Chasing Ice\" (2012) and \"Chasing Coral\" (2017).', '#Nick Schmidt#Nick Schmidt\\nNick Schmidt (born October 10, 1985) is an American professional baseball pitcher who is a free agent.\\nSchmidt was drafted by the San Diego Padres of Major League Baseball with the 23rd overall pick in the 2007 Major League Baseball Draft.\\nHe played college baseball for the Arkansas Razorbacks.', '#Reginald Engelbach#Reginald Engelbach\\nReginald Engelbach (July 9, 1888 – February 26, 1946) was an English Egyptologist and engineer.\\nHe is mainly known for his works in the Egyptian Museum of Cairo, above all the compilation of a register of artifacts belonging of the museum.', '#Steve Spurrier#Steve Spurrier\\nStephen Orr Spurrier (born April 20, 1945) is a former American football player and coach.\\nSpurrier served as the head coach of three college and two professional teams.\\nHe was also a standout college football player, and spent a decade playing professionally in the National Football League (NFL).\\nSpurrier retired from coaching in 2015 and now serves as an ambassador and consultant for the University of Florida\\'s athletic department.\\nHe is nicknamed the \"Head Ball Coach\".', '#Manny Machado#Manny Machado\\nManuel Arturo Machado (] ; born July 6, 1992) is an American professional baseball third baseman and shortstop for the Baltimore Orioles of Major League Baseball (MLB).\\nHe attended Brito High School in Miami and was drafted by the Orioles with the third overall pick in the 2010 Major League Baseball draft.\\nHe bats and throws right-handed.', \"#Bobbie Kilberg#Bobbie Kilberg\\nBobbie Kilberg (born Barbara Greene; October 25, 1944) is a Republican operative who has worked for Presidents Richard Nixon, Gerald Ford, George H.\\nW.\\nBush, and George W.\\nBush.\\nKilberg is currently the President and CEO of the Northern Virginia Technology Council and has been since 1998.\\nShe was briefly an attorney with the Washington law firm of Arnold & Porter from 1971 to 1973.\\nHer White House experiences include serving on the staff of President Richard Nixon's Domestic Policy Council, serving under President Gerald Ford as Associate Counsel and serving for President George H.\\nW.\\nBush as Deputy Assistant to the President for Public Liaison and as Director of the White House Office of Intergovernmental Affairs.\", '#Kevin Tierney#Kevin Tierney\\nKevin Tierney is an Irish-Canadian  film producer from Montreal who earned a Genie Award for Best Motion Picture for the film \"Bon Cop, Bad Cop\", for which he also wrote the script.\\nHe has also produced other titles including \"One Dead Indian\", \"Good Neighbours\" and \"Twist\".\\nHe is the father of Canadian actor and director Jacob Tierney.\\nHis directorial debut is \"French Immersion\".\\nHe attended the McGill faculty of Education in 1973 and taught abroad and in Montreal for 12 years.', \"#Aaron Blair#Aaron Blair\\nAaron Daniel Blair (born May 26, 1992) is an American professional baseball pitcher for the Atlanta Braves of Major League Baseball (MLB).\\nBlair attended Marshall University, where he played baseball for the Marshall Thundering Herd baseball team.\\nPrior to that, he attended Spring Valley High School in Spring Valley, Nevada and played for the school's baseball team.\\nThe Houston Astros selected him in the 21st round of the 2010 Major League Baseball Draft but decided to go to college instead.\\nThe Arizona Diamondbacks selected Blair with the 36th pick of the 2013 Major League Baseball Draft.\\nHe was traded to the Atlanta Braves by the Diamondbacks as part of a five-player deal announced December 9, 2015.\"]\n",
      "**********************\n"
     ]
    }
   ],
   "source": [
    "for trace in traceLog:\n",
    "    # 第i次迭代\n",
    "\n",
    "    for sub_trace in trace['sub question']:\n",
    "        print(\"问题： \",sub_trace['sub_query'], \"答案：\",sub_trace['sub_answer'])\n",
    "        # print(sub_trace.keys())\n",
    "        print(sub_trace['doc_retrieved'])\n",
    "    print(\"*********输出进行排序后召回的结果**************\")\n",
    "    print(trace['recall docs'])\n",
    "\n",
    "    print(\"**********************\")\n",
    "    "
   ]
  },
  {
   "cell_type": "code",
   "execution_count": 7,
   "metadata": {},
   "outputs": [
    {
     "name": "stdout",
     "output_type": "stream",
     "text": [
      "dict_keys(['sub question', 'recall docs', 'rerank docs', 'kg_exact_solved_answer', 'present_instruction', 'present_memory'])\n",
      "dict_keys(['sub question', 'recall docs', 'rerank docs', 'kg_exact_solved_answer', 'present_instruction', 'present_memory'])\n",
      "dict_keys(['sub question', 'recall docs', 'rerank docs', 'kg_exact_solved_answer', 'present_instruction', 'present_memory'])\n"
     ]
    }
   ],
   "source": [
    "for trace in traceLog:\n",
    "    print(trace.keys())"
   ]
  },
  {
   "cell_type": "code",
   "execution_count": null,
   "metadata": {},
   "outputs": [],
   "source": []
  },
  {
   "cell_type": "code",
   "execution_count": 8,
   "metadata": {},
   "outputs": [
    {
     "data": {
      "text/plain": [
       "''"
      ]
     },
     "execution_count": 8,
     "metadata": {},
     "output_type": "execute_result"
    }
   ],
   "source": [
    "traceLog[0]['kg_exact_solved_answer']"
   ]
  },
  {
   "cell_type": "code",
   "execution_count": 9,
   "metadata": {},
   "outputs": [
    {
     "data": {
      "text/plain": [
       "{'sub question': [{'sub_query': ' What was Tom Holland responsible for between 2003 and 2008?',\n",
       "   'sub_answer': '\\n\\nAnswer: Tom Holland was a member of the Kansas House of Representatives from 2003 to 2008.  \\nReason: The document titled \"#Tom Holland (politician)\" explicitly states he served in the Kansas House of Representatives during that period. No other documents mention Tom Holland holding roles between 2003-2008 besides this political position.',\n",
       "   'doc_retrieved': ['#Pure Michigan#Pure Michigan\\nPure Michigan began as an advertising campaign launched in 2008 by the state of Michigan, featuring the voice of actor and comedian Tim Allen.\\nThe Pure Michigan campaign, which aims to market the state of Michigan as a travel and tourism destination, received state and international attention beginning in 2008 when Michigan Governor Jennifer Granholm approved $45 million in additional funding for the Pure Michigan campaign from the 21st Century Jobs Trust Fund.\\nThe unprecedented tourism fund amount for the state allowed the Pure Michigan campaign to be broadcast on a national level beginning in March 2009.\\nAnnual funding for fiscal 2014 was $29 million.#0.9190634877837166',\n",
       "    '#Super Bowl XXXVII#Super Bowl XXXVII\\nSuper Bowl XXXVII was an American football game between the American Football Conference (AFC) champion Oakland Raiders and the National Football Conference (NFC) champion Tampa Bay Buccaneers to decide the National Football League (NFL) champion for the 2002 season.\\nThe Buccaneers defeated the Raiders by the score of 48–21, tied with Super Bowl XXXV for the seventh largest Super Bowl margin of victory, and winning their first ever Super Bowl.\\nThe game, played on January 26, 2003 at Qualcomm Stadium in San Diego, California, was the sixth Super Bowl to be held a week after the conference championship games (XVII, XXV, XXVIII, XXXIV, and XXXVI).\\nIt was also the last Super Bowl played in the month of January.\\nSuper Bowl XXXVI was the first to be played in February, due to the NFL postponing games for a week after the September 11 attacks.\\nStarting with Super Bowl XXXVIII in 2004, the Super Bowl has been permanently played in February.\\nThis was the last Super Bowl until Super Bowl 50 to take place in California.#0.9148866367199868',\n",
       "    '#Thomas Fitch (politician)#Thomas Fitch (politician)\\nThomas Fitch (January 27, 1838 – November 12, 1923) was an American lawyer and politician.\\nHe defended President Brigham Young of The Church of Jesus Christ of Latter-day Saints and other church leaders when Young and his denomination were prosecuted for polygamy in 1871 and 1872.\\nHe also successfully defended Virgil, Morgan, and Wyatt Earp along with Doc Holliday when they were accused of murdering Billy Clanton, and Tom and Frank McLaury during the October 25, 1881 Gunfight at the O.\\nK.\\nCorral.#0.8912500242310817',\n",
       "    '#Tom Holland (politician)#Tom Holland (politician)\\nTom Holland (born July 23, 1961) is a Democratic member of the Kansas Senate, representing the 3rd District since 2009.\\nHe was a member of the Kansas House of Representatives from 2003 to 2008.#0.5',\n",
       "    \"#Twisted Tales (web series)#Twisted Tales (web series)\\nTwisted Tales (also known as Tom Holland’s Twisted Tales) is a 2013 webseries that was written and directed by American director Tom Holland.\\nThe series was released in late 2013 through Fearnet's website and was released onto DVD on March 18, 2014 through Image Entertainment.#0.4488691868166468\",\n",
       "    '#Tom Rasmussen#Tom Rasmussen\\nTom Rasmussen is a retired member of the Seattle City Council, first elected in 2003.\\nBetween September 2004 and December 2007 he was chair of the Housing, Human Services & Health Committee, vice chair of the Urban Development & Planning Committee, and a member of the Transportation Committee.\\nOn January 7, 2008 Tom was sworn in for his second term on City Council.\\nFrom January 2008 through December 2009, he was chair of the Parks & Seattle Center Committee, the vice chair of the Culture, Civil Rights, Health and Personnel Committee, and the Labor Policy Committee.\\nHe was also chair of the Transportation Committee, vice chair of the Economic Resiliency and Regional Relations, and a member of Parks and Seattle Center Committee.#0.4412782497698782',\n",
       "    '#Islam: The Untold Story#Islam: The Untold Story\\nIslam: The Untold Story is a documentary film written and presented by the English novelist and popular historian Tom Holland.\\nThe documentary explores the origins of Islam, an Abrahamic religion that developed in Arabia in the 7th\\xa0century; it criticizes the orthodox Islamic account of this history, claiming that it lacks sufficient supporting evidence.\\nIt was commissioned by the British television company Channel\\xa04 and first broadcast in August 2012.\\nIts release followed the publication of Holland\\'s \"In the Shadow of the Sword: The Battle for Global Empire and the End of the Ancient World\" (2012), which also discussed the rise of the Arab Empire and the origins of Islam.#0.4404611483241784',\n",
       "    '#Apnalaya#Apnalaya\\nApnalaya, \"Our Space\" in English, is a non-profit organization, founded in 1973 by Tom Holland, who was then the Australian Consul General in Bombay.\\nAt that time it was called Holland Welfare Centre, which was a day care centre for labourer\\'s children in Nariman Point, the place where National Centre for the Performing Arts (NCPA) stands today.#0.4385200183979995',\n",
       "    \"#Robert Greifeld#Robert Greifeld\\nRobert Greifeld (born 1957) is an American businessman and is the chairman of Nasdaq, the largest electronic screen-based equity securities market in the United States.\\nHe served as CEO from 2003-2016 and was succeeded by Adena Friedman.\\nGreifeld focused the NASDAQ-OMX mission on being the premier U.\\nS equities market, leveraging NASDAQ-OMX's fundamental market structure advantage.#0.4244081301300137\",\n",
       "    '#Zeitgeist Films#Zeitgeist Films\\nZeitgeist Films is an American independent film distributor based in New York City founded in 1988 by co-Presidents Nancy Gerstman and Emily Russo.\\nFilms distributed by Zeitgeist are strongly auteur-driven by directors such as Christopher Nolan, Guy Maddin, Atom Egoyan, Todd Haynes, Nuri Bilge Ceylan, Olivier Assayas, Abbas Kiarostami, Deepa Mehta, Jan Švankmajer and the Brothers Quay.\\nThe expansive Zeitgeist film library includes \"Trouble the Water\", \"The Corporation\", \"Jellyfish\", \"Examined Life\", \"Into Great Silence\", Ten and Irma Vep.\\nIn June 2008, the MoMA honored two decades of Zeitgeist successes with a month-long, twenty film retrospective entitled \"Zeitgeist: The Films of Our Time\", exhibiting the distributor\\'s twenty most critically acclaimed, intellectually stimulating titles.#0.42253514094265665'],\n",
       "   'spo_retrieved': [],\n",
       "   'match_type': 'chunk',\n",
       "   'execute_cost': 0.0,\n",
       "   'lf_expr': ['get_spo(s=s1:人物[Tom Holland] ,p=p1:ResponsibleFor,o=o1:Entity[2003-2008] ,sub_query= What was Tom Holland responsible for between 2003 and 2008?)']},\n",
       "  {'sub_query': ' Return the responsibility information.',\n",
       "   'sub_answer': '\\n\\nAnswer: Tom Holland\\'s responsibilities included crafting and voting on legislation, contributing to the state budget, and overseeing state agencies while serving in the Kansas House of Representatives (2003–2008).  \\nReason: The document \"#Kansas House of Representatives\" specifies that members are responsible for these duties, and Tom Holland\\'s political document confirms his membership during that period.',\n",
       "   'doc_retrieved': ['#Brian Coleman#Brian Coleman\\nBrian Coleman FRSA (born 25 June 1961) is an English Independent Conservative politician and a former councillor in the London Borough of Barnet.\\nHe was a Conservative Party member of the London Assembly for Barnet and Camden between 2000 and 2012, and in Barnet was Mayor for 2009–2010.\\nHe was also Chairman and Leader of the London Fire and Emergency Planning Authority (LFEPA) from May 2008 to 5 May 2012.#0.8741553113304927',\n",
       "    '#Thomas Fitch (politician)#Thomas Fitch (politician)\\nThomas Fitch (January 27, 1838 – November 12, 1923) was an American lawyer and politician.\\nHe defended President Brigham Young of The Church of Jesus Christ of Latter-day Saints and other church leaders when Young and his denomination were prosecuted for polygamy in 1871 and 1872.\\nHe also successfully defended Virgil, Morgan, and Wyatt Earp along with Doc Holliday when they were accused of murdering Billy Clanton, and Tom and Frank McLaury during the October 25, 1881 Gunfight at the O.\\nK.\\nCorral.#0.8610160234842057',\n",
       "    '#Kansas House of Representatives#Kansas House of Representatives\\nThe Kansas House of Representatives is the lower house of the legislature of the U.\\nS.\\nstate of Kansas.\\nComposed of 125 state representatives from districts with roughly equal populations of at least 19,000, its members are responsible for crafting and voting on legislation, helping to create a state budget, and legislative oversight over state agencies.#0.8601262708506249',\n",
       "    '#Super Bowl XXXVII#Super Bowl XXXVII\\nSuper Bowl XXXVII was an American football game between the American Football Conference (AFC) champion Oakland Raiders and the National Football Conference (NFC) champion Tampa Bay Buccaneers to decide the National Football League (NFL) champion for the 2002 season.\\nThe Buccaneers defeated the Raiders by the score of 48–21, tied with Super Bowl XXXV for the seventh largest Super Bowl margin of victory, and winning their first ever Super Bowl.\\nThe game, played on January 26, 2003 at Qualcomm Stadium in San Diego, California, was the sixth Super Bowl to be held a week after the conference championship games (XVII, XXV, XXVIII, XXXIV, and XXXVI).\\nIt was also the last Super Bowl played in the month of January.\\nSuper Bowl XXXVI was the first to be played in February, due to the NFL postponing games for a week after the September 11 attacks.\\nStarting with Super Bowl XXXVIII in 2004, the Super Bowl has been permanently played in February.\\nThis was the last Super Bowl until Super Bowl 50 to take place in California.#0.857699633970382',\n",
       "    '#Pure Michigan#Pure Michigan\\nPure Michigan began as an advertising campaign launched in 2008 by the state of Michigan, featuring the voice of actor and comedian Tim Allen.\\nThe Pure Michigan campaign, which aims to market the state of Michigan as a travel and tourism destination, received state and international attention beginning in 2008 when Michigan Governor Jennifer Granholm approved $45 million in additional funding for the Pure Michigan campaign from the 21st Century Jobs Trust Fund.\\nThe unprecedented tourism fund amount for the state allowed the Pure Michigan campaign to be broadcast on a national level beginning in March 2009.\\nAnnual funding for fiscal 2014 was $29 million.#0.8559793306960312',\n",
       "    '#Tom Holland (politician)#Tom Holland (politician)\\nTom Holland (born July 23, 1961) is a Democratic member of the Kansas Senate, representing the 3rd District since 2009.\\nHe was a member of the Kansas House of Representatives from 2003 to 2008.#0.5',\n",
       "    '#Tom Rasmussen#Tom Rasmussen\\nTom Rasmussen is a retired member of the Seattle City Council, first elected in 2003.\\nBetween September 2004 and December 2007 he was chair of the Housing, Human Services & Health Committee, vice chair of the Urban Development & Planning Committee, and a member of the Transportation Committee.\\nOn January 7, 2008 Tom was sworn in for his second term on City Council.\\nFrom January 2008 through December 2009, he was chair of the Parks & Seattle Center Committee, the vice chair of the Culture, Civil Rights, Health and Personnel Committee, and the Labor Policy Committee.\\nHe was also chair of the Transportation Committee, vice chair of the Economic Resiliency and Regional Relations, and a member of Parks and Seattle Center Committee.#0.4176056088610889',\n",
       "    \"#Kansas gubernatorial election, 2010#Kansas gubernatorial election, 2010\\nThe 2010 Kansas gubernatorial election was held on November 2, 2010.\\nIncumbent Governor Mark Parkinson, who assumed office when previous Governor Kathleen Sebelius was sworn in as the United States Secretary of Health and Human Services on April 28, 2009, declined to seek election to a full term.\\nUnited States Senator Sam Brownback, who unsuccessfully ran for president in 2008, emerged as the Republican nominee, facing off against Democratic State Senator Tom Holland, who was unopposed for his party's nomination.\\nOwing to the large amount of popularity that he had accumulated during his tenure in the United States Senate, Brownback defeated Holland in a landslide to become the 46th Governor of Kansas.#0.40786381090676893\",\n",
       "    '#John C. Talbot#John C. Talbot\\nJohn Coffin Talbot (1784–1860) was an American businessperson and politician from Maine.\\nTalbot, a Democrat, served 6 one-year terms in the Maine Legislature, including two in the Maine House of Representatives (1825; 1831) and four in the Maine Senate (1832-1833; 1836-1837).\\nIn his 4th and final Senate term, Talbot was elected Senate President.#0.4037151159299108',\n",
       "    \"#Hamilton Fish House#Hamilton Fish House\\nThe Hamilton Fish House, also known as the Stuyvesant Fish House and Nicholas and Elizabeth Stuyvesant Fish House, is where Hamilton Fish (1808-93), future Governor and Senator of New York, was born and resided from 1808 to 1838.\\nIt is located at 21 Stuyvesant Street, a diagonal street within the Manhattan street grid, between East 9th Street and East 10th Street in the East Village neighborhood of New York City.\\nIt is owned by Cooper Union and used as a residence for the college's president.#0.3830322096824612\"],\n",
       "   'spo_retrieved': [],\n",
       "   'match_type': 'chunk',\n",
       "   'execute_cost': 0.0,\n",
       "   'lf_expr': ['get(alias_name=o1,alias_name_set=[o1],sub_query= Return the responsibility information.)']}],\n",
       " 'recall docs': ['#Pure Michigan#Pure Michigan\\nPure Michigan began as an advertising campaign launched in 2008 by the state of Michigan, featuring the voice of actor and comedian Tim Allen.\\nThe Pure Michigan campaign, which aims to market the state of Michigan as a travel and tourism destination, received state and international attention beginning in 2008 when Michigan Governor Jennifer Granholm approved $45 million in additional funding for the Pure Michigan campaign from the 21st Century Jobs Trust Fund.\\nThe unprecedented tourism fund amount for the state allowed the Pure Michigan campaign to be broadcast on a national level beginning in March 2009.\\nAnnual funding for fiscal 2014 was $29 million.',\n",
       "  '#Brian Coleman#Brian Coleman\\nBrian Coleman FRSA (born 25 June 1961) is an English Independent Conservative politician and a former councillor in the London Borough of Barnet.\\nHe was a Conservative Party member of the London Assembly for Barnet and Camden between 2000 and 2012, and in Barnet was Mayor for 2009–2010.\\nHe was also Chairman and Leader of the London Fire and Emergency Planning Authority (LFEPA) from May 2008 to 5 May 2012.',\n",
       "  '#Thomas Fitch (politician)#Thomas Fitch (politician)\\nThomas Fitch (January 27, 1838 – November 12, 1923) was an American lawyer and politician.\\nHe defended President Brigham Young of The Church of Jesus Christ of Latter-day Saints and other church leaders when Young and his denomination were prosecuted for polygamy in 1871 and 1872.\\nHe also successfully defended Virgil, Morgan, and Wyatt Earp along with Doc Holliday when they were accused of murdering Billy Clanton, and Tom and Frank McLaury during the October 25, 1881 Gunfight at the O.\\nK.\\nCorral.',\n",
       "  '#Super Bowl XXXVII#Super Bowl XXXVII\\nSuper Bowl XXXVII was an American football game between the American Football Conference (AFC) champion Oakland Raiders and the National Football Conference (NFC) champion Tampa Bay Buccaneers to decide the National Football League (NFL) champion for the 2002 season.\\nThe Buccaneers defeated the Raiders by the score of 48–21, tied with Super Bowl XXXV for the seventh largest Super Bowl margin of victory, and winning their first ever Super Bowl.\\nThe game, played on January 26, 2003 at Qualcomm Stadium in San Diego, California, was the sixth Super Bowl to be held a week after the conference championship games (XVII, XXV, XXVIII, XXXIV, and XXXVI).\\nIt was also the last Super Bowl played in the month of January.\\nSuper Bowl XXXVI was the first to be played in February, due to the NFL postponing games for a week after the September 11 attacks.\\nStarting with Super Bowl XXXVIII in 2004, the Super Bowl has been permanently played in February.\\nThis was the last Super Bowl until Super Bowl 50 to take place in California.',\n",
       "  '#Tom Holland (politician)#Tom Holland (politician)\\nTom Holland (born July 23, 1961) is a Democratic member of the Kansas Senate, representing the 3rd District since 2009.\\nHe was a member of the Kansas House of Representatives from 2003 to 2008.',\n",
       "  '#Kansas House of Representatives#Kansas House of Representatives\\nThe Kansas House of Representatives is the lower house of the legislature of the U.\\nS.\\nstate of Kansas.\\nComposed of 125 state representatives from districts with roughly equal populations of at least 19,000, its members are responsible for crafting and voting on legislation, helping to create a state budget, and legislative oversight over state agencies.',\n",
       "  '#Tom Rasmussen#Tom Rasmussen\\nTom Rasmussen is a retired member of the Seattle City Council, first elected in 2003.\\nBetween September 2004 and December 2007 he was chair of the Housing, Human Services & Health Committee, vice chair of the Urban Development & Planning Committee, and a member of the Transportation Committee.\\nOn January 7, 2008 Tom was sworn in for his second term on City Council.\\nFrom January 2008 through December 2009, he was chair of the Parks & Seattle Center Committee, the vice chair of the Culture, Civil Rights, Health and Personnel Committee, and the Labor Policy Committee.\\nHe was also chair of the Transportation Committee, vice chair of the Economic Resiliency and Regional Relations, and a member of Parks and Seattle Center Committee.',\n",
       "  \"#Twisted Tales (web series)#Twisted Tales (web series)\\nTwisted Tales (also known as Tom Holland’s Twisted Tales) is a 2013 webseries that was written and directed by American director Tom Holland.\\nThe series was released in late 2013 through Fearnet's website and was released onto DVD on March 18, 2014 through Image Entertainment.\",\n",
       "  '#Islam: The Untold Story#Islam: The Untold Story\\nIslam: The Untold Story is a documentary film written and presented by the English novelist and popular historian Tom Holland.\\nThe documentary explores the origins of Islam, an Abrahamic religion that developed in Arabia in the 7th\\xa0century; it criticizes the orthodox Islamic account of this history, claiming that it lacks sufficient supporting evidence.\\nIt was commissioned by the British television company Channel\\xa04 and first broadcast in August 2012.\\nIts release followed the publication of Holland\\'s \"In the Shadow of the Sword: The Battle for Global Empire and the End of the Ancient World\" (2012), which also discussed the rise of the Arab Empire and the origins of Islam.',\n",
       "  '#Apnalaya#Apnalaya\\nApnalaya, \"Our Space\" in English, is a non-profit organization, founded in 1973 by Tom Holland, who was then the Australian Consul General in Bombay.\\nAt that time it was called Holland Welfare Centre, which was a day care centre for labourer\\'s children in Nariman Point, the place where National Centre for the Performing Arts (NCPA) stands today.',\n",
       "  \"#Kansas gubernatorial election, 2010#Kansas gubernatorial election, 2010\\nThe 2010 Kansas gubernatorial election was held on November 2, 2010.\\nIncumbent Governor Mark Parkinson, who assumed office when previous Governor Kathleen Sebelius was sworn in as the United States Secretary of Health and Human Services on April 28, 2009, declined to seek election to a full term.\\nUnited States Senator Sam Brownback, who unsuccessfully ran for president in 2008, emerged as the Republican nominee, facing off against Democratic State Senator Tom Holland, who was unopposed for his party's nomination.\\nOwing to the large amount of popularity that he had accumulated during his tenure in the United States Senate, Brownback defeated Holland in a landslide to become the 46th Governor of Kansas.\",\n",
       "  \"#Robert Greifeld#Robert Greifeld\\nRobert Greifeld (born 1957) is an American businessman and is the chairman of Nasdaq, the largest electronic screen-based equity securities market in the United States.\\nHe served as CEO from 2003-2016 and was succeeded by Adena Friedman.\\nGreifeld focused the NASDAQ-OMX mission on being the premier U.\\nS equities market, leveraging NASDAQ-OMX's fundamental market structure advantage.\",\n",
       "  '#John C. Talbot#John C. Talbot\\nJohn Coffin Talbot (1784–1860) was an American businessperson and politician from Maine.\\nTalbot, a Democrat, served 6 one-year terms in the Maine Legislature, including two in the Maine House of Representatives (1825; 1831) and four in the Maine Senate (1832-1833; 1836-1837).\\nIn his 4th and final Senate term, Talbot was elected Senate President.',\n",
       "  '#Zeitgeist Films#Zeitgeist Films\\nZeitgeist Films is an American independent film distributor based in New York City founded in 1988 by co-Presidents Nancy Gerstman and Emily Russo.\\nFilms distributed by Zeitgeist are strongly auteur-driven by directors such as Christopher Nolan, Guy Maddin, Atom Egoyan, Todd Haynes, Nuri Bilge Ceylan, Olivier Assayas, Abbas Kiarostami, Deepa Mehta, Jan Švankmajer and the Brothers Quay.\\nThe expansive Zeitgeist film library includes \"Trouble the Water\", \"The Corporation\", \"Jellyfish\", \"Examined Life\", \"Into Great Silence\", Ten and Irma Vep.\\nIn June 2008, the MoMA honored two decades of Zeitgeist successes with a month-long, twenty film retrospective entitled \"Zeitgeist: The Films of Our Time\", exhibiting the distributor\\'s twenty most critically acclaimed, intellectually stimulating titles.',\n",
       "  \"#Hamilton Fish House#Hamilton Fish House\\nThe Hamilton Fish House, also known as the Stuyvesant Fish House and Nicholas and Elizabeth Stuyvesant Fish House, is where Hamilton Fish (1808-93), future Governor and Senator of New York, was born and resided from 1808 to 1838.\\nIt is located at 21 Stuyvesant Street, a diagonal street within the Manhattan street grid, between East 9th Street and East 10th Street in the East Village neighborhood of New York City.\\nIt is owned by Cooper Union and used as a residence for the college's president.\"],\n",
       " 'rerank docs': ['#Tom Holland (politician)#Tom Holland (politician)\\nTom Holland (born July 23, 1961) is a Democratic member of the Kansas Senate, representing the 3rd District since 2009.\\nHe was a member of the Kansas House of Representatives from 2003 to 2008.',\n",
       "  '#Tom Rasmussen#Tom Rasmussen\\nTom Rasmussen is a retired member of the Seattle City Council, first elected in 2003.\\nBetween September 2004 and December 2007 he was chair of the Housing, Human Services & Health Committee, vice chair of the Urban Development & Planning Committee, and a member of the Transportation Committee.\\nOn January 7, 2008 Tom was sworn in for his second term on City Council.\\nFrom January 2008 through December 2009, he was chair of the Parks & Seattle Center Committee, the vice chair of the Culture, Civil Rights, Health and Personnel Committee, and the Labor Policy Committee.\\nHe was also chair of the Transportation Committee, vice chair of the Economic Resiliency and Regional Relations, and a member of Parks and Seattle Center Committee.',\n",
       "  '#Pure Michigan#Pure Michigan\\nPure Michigan began as an advertising campaign launched in 2008 by the state of Michigan, featuring the voice of actor and comedian Tim Allen.\\nThe Pure Michigan campaign, which aims to market the state of Michigan as a travel and tourism destination, received state and international attention beginning in 2008 when Michigan Governor Jennifer Granholm approved $45 million in additional funding for the Pure Michigan campaign from the 21st Century Jobs Trust Fund.\\nThe unprecedented tourism fund amount for the state allowed the Pure Michigan campaign to be broadcast on a national level beginning in March 2009.\\nAnnual funding for fiscal 2014 was $29 million.',\n",
       "  \"#Twisted Tales (web series)#Twisted Tales (web series)\\nTwisted Tales (also known as Tom Holland’s Twisted Tales) is a 2013 webseries that was written and directed by American director Tom Holland.\\nThe series was released in late 2013 through Fearnet's website and was released onto DVD on March 18, 2014 through Image Entertainment.\",\n",
       "  '#Zeitgeist Films#Zeitgeist Films\\nZeitgeist Films is an American independent film distributor based in New York City founded in 1988 by co-Presidents Nancy Gerstman and Emily Russo.\\nFilms distributed by Zeitgeist are strongly auteur-driven by directors such as Christopher Nolan, Guy Maddin, Atom Egoyan, Todd Haynes, Nuri Bilge Ceylan, Olivier Assayas, Abbas Kiarostami, Deepa Mehta, Jan Švankmajer and the Brothers Quay.\\nThe expansive Zeitgeist film library includes \"Trouble the Water\", \"The Corporation\", \"Jellyfish\", \"Examined Life\", \"Into Great Silence\", Ten and Irma Vep.\\nIn June 2008, the MoMA honored two decades of Zeitgeist successes with a month-long, twenty film retrospective entitled \"Zeitgeist: The Films of Our Time\", exhibiting the distributor\\'s twenty most critically acclaimed, intellectually stimulating titles.',\n",
       "  '#Brian Coleman#Brian Coleman\\nBrian Coleman FRSA (born 25 June 1961) is an English Independent Conservative politician and a former councillor in the London Borough of Barnet.\\nHe was a Conservative Party member of the London Assembly for Barnet and Camden between 2000 and 2012, and in Barnet was Mayor for 2009–2010.\\nHe was also Chairman and Leader of the London Fire and Emergency Planning Authority (LFEPA) from May 2008 to 5 May 2012.',\n",
       "  '#Islam: The Untold Story#Islam: The Untold Story\\nIslam: The Untold Story is a documentary film written and presented by the English novelist and popular historian Tom Holland.\\nThe documentary explores the origins of Islam, an Abrahamic religion that developed in Arabia in the 7th\\xa0century; it criticizes the orthodox Islamic account of this history, claiming that it lacks sufficient supporting evidence.\\nIt was commissioned by the British television company Channel\\xa04 and first broadcast in August 2012.\\nIts release followed the publication of Holland\\'s \"In the Shadow of the Sword: The Battle for Global Empire and the End of the Ancient World\" (2012), which also discussed the rise of the Arab Empire and the origins of Islam.',\n",
       "  '#Apnalaya#Apnalaya\\nApnalaya, \"Our Space\" in English, is a non-profit organization, founded in 1973 by Tom Holland, who was then the Australian Consul General in Bombay.\\nAt that time it was called Holland Welfare Centre, which was a day care centre for labourer\\'s children in Nariman Point, the place where National Centre for the Performing Arts (NCPA) stands today.',\n",
       "  '#Thomas Fitch (politician)#Thomas Fitch (politician)\\nThomas Fitch (January 27, 1838 – November 12, 1923) was an American lawyer and politician.\\nHe defended President Brigham Young of The Church of Jesus Christ of Latter-day Saints and other church leaders when Young and his denomination were prosecuted for polygamy in 1871 and 1872.\\nHe also successfully defended Virgil, Morgan, and Wyatt Earp along with Doc Holliday when they were accused of murdering Billy Clanton, and Tom and Frank McLaury during the October 25, 1881 Gunfight at the O.\\nK.\\nCorral.',\n",
       "  '#Super Bowl XXXVII#Super Bowl XXXVII\\nSuper Bowl XXXVII was an American football game between the American Football Conference (AFC) champion Oakland Raiders and the National Football Conference (NFC) champion Tampa Bay Buccaneers to decide the National Football League (NFL) champion for the 2002 season.\\nThe Buccaneers defeated the Raiders by the score of 48–21, tied with Super Bowl XXXV for the seventh largest Super Bowl margin of victory, and winning their first ever Super Bowl.\\nThe game, played on January 26, 2003 at Qualcomm Stadium in San Diego, California, was the sixth Super Bowl to be held a week after the conference championship games (XVII, XXV, XXVIII, XXXIV, and XXXVI).\\nIt was also the last Super Bowl played in the month of January.\\nSuper Bowl XXXVI was the first to be played in February, due to the NFL postponing games for a week after the September 11 attacks.\\nStarting with Super Bowl XXXVIII in 2004, the Super Bowl has been permanently played in February.\\nThis was the last Super Bowl until Super Bowl 50 to take place in California.'],\n",
       " 'kg_exact_solved_answer': '',\n",
       " 'present_instruction': 'From 2003 to 2008 Tom Holland was responsible for what  ?',\n",
       " 'present_memory': \"[State Memory]:[]\\n[Evidence Memory]:['\\\\n\\\\nTom Holland served as a member of the Kansas House of Representatives from 2003 to 2008. During this period, his responsibilities aligned with the duties of legislators in that body, including participating in the drafting and voting on state legislation, contributing to budgetary decisions, and overseeing the operations of state agencies. This role is explicitly documented in his political biography, which confirms his membership in the Kansas House during those years. No other roles for Tom Holland between 2003 and 2008 are mentioned in the provided sources, reinforcing that his primary responsibility was his legislative work in Kansas. [DONE]']\\n\"}"
      ]
     },
     "execution_count": 9,
     "metadata": {},
     "output_type": "execute_result"
    }
   ],
   "source": [
    "data[4]['traceLog'][0]"
   ]
  },
  {
   "cell_type": "code",
   "execution_count": 10,
   "metadata": {},
   "outputs": [
    {
     "data": {
      "text/plain": [
       "'for crafting and voting on legislation'"
      ]
     },
     "execution_count": 10,
     "metadata": {},
     "output_type": "execute_result"
    }
   ],
   "source": [
    "data[4]['answer']"
   ]
  },
  {
   "cell_type": "code",
   "execution_count": 11,
   "metadata": {},
   "outputs": [
    {
     "data": {
      "text/plain": [
       "'\\n\\nTom Holland was responsible for participating in the drafting and voting on state legislation, contributing to budgetary decisions, and overseeing the operations of state agencies as a member of the Kansas House of Representatives from 2003 to 2008.'"
      ]
     },
     "execution_count": 11,
     "metadata": {},
     "output_type": "execute_result"
    }
   ],
   "source": [
    "data[4]['prediction']"
   ]
  },
  {
   "cell_type": "code",
   "execution_count": 12,
   "metadata": {},
   "outputs": [
    {
     "data": {
      "text/plain": [
       "'From 2003 to 2008 Tom Holland was responsible for what  ?'"
      ]
     },
     "execution_count": 12,
     "metadata": {},
     "output_type": "execute_result"
    }
   ],
   "source": [
    "data[4]['question']"
   ]
  },
  {
   "cell_type": "code",
   "execution_count": 13,
   "metadata": {},
   "outputs": [
    {
     "data": {
      "text/plain": [
       "[['Fred Gehrke', 4], ['Christian Yelich', 1]]"
      ]
     },
     "execution_count": 13,
     "metadata": {},
     "output_type": "execute_result"
    }
   ],
   "source": [
    "data[0]['supporting_facts']"
   ]
  },
  {
   "cell_type": "code",
   "execution_count": 14,
   "metadata": {},
   "outputs": [
    {
     "data": {
      "text/plain": [
       "[['Tom Holland (politician)', 1], ['Kansas House of Representatives', 1]]"
      ]
     },
     "execution_count": 14,
     "metadata": {},
     "output_type": "execute_result"
    }
   ],
   "source": [
    "data[4]['supporting_facts']"
   ]
  },
  {
   "cell_type": "code",
   "execution_count": 15,
   "metadata": {},
   "outputs": [
    {
     "data": {
      "text/plain": [
       "['#Fred Gehrke#Fred Gehrke\\nClarence Fred Gehrke (April 24, 1918 – February 9, 2002) was an American football player and executive.\\nHe played in the National Football League (NFL) for the Cleveland / Los Angeles Rams, San Francisco 49ers and Chicago Cardinals from 1940 through 1950.\\nTo boost team morale, Gehrke designed and painted the Los Angeles Rams logo in 1948, which was the first painted on the helmets of an NFL team.\\nHe later served as the general manager of the Denver Broncos from 1977 through 1981.\\nHe is the great-grandfather of Miami Marlin Christian Yelich',\n",
       " '#Family Guy#Family Guy\\nFamily Guy is an American animated sitcom created by Seth MacFarlane for the Fox Broadcasting Company.\\nThe series centers on the Griffins, a family consisting of parents Peter and Lois; their children, Meg, Chris, and Stewie; and their anthropomorphic pet dog, Brian.\\nThe show is set in the fictional city of Quahog, Rhode Island, and exhibits much of its humor in the form of cutaway gags that often lampoon American culture.',\n",
       " '#Christian Yelich#Christian Yelich\\nChristian Stephen Yelich (born December 5, 1991) is an American professional baseball left fielder for the Miami Marlins of Major League Baseball (MLB).\\nYelich was drafted out of high school by the Marlins in the 1st round (23rd overall) of the 2010 Major League Baseball Draft.\\nHe stands 6 feet 3 inches and weighs 195 pounds.',\n",
       " \"#Aaron Blair#Aaron Blair\\nAaron Daniel Blair (born May 26, 1992) is an American professional baseball pitcher for the Atlanta Braves of Major League Baseball (MLB).\\nBlair attended Marshall University, where he played baseball for the Marshall Thundering Herd baseball team.\\nPrior to that, he attended Spring Valley High School in Spring Valley, Nevada and played for the school's baseball team.\\nThe Houston Astros selected him in the 21st round of the 2010 Major League Baseball Draft but decided to go to college instead.\\nThe Arizona Diamondbacks selected Blair with the 36th pick of the 2013 Major League Baseball Draft.\\nHe was traded to the Atlanta Braves by the Diamondbacks as part of a five-player deal announced December 9, 2015.\",\n",
       " '#Manny Machado#Manny Machado\\nManuel Arturo Machado (] ; born July 6, 1992) is an American professional baseball third baseman and shortstop for the Baltimore Orioles of Major League Baseball (MLB).\\nHe attended Brito High School in Miami and was drafted by the Orioles with the third overall pick in the 2010 Major League Baseball draft.\\nHe bats and throws right-handed.',\n",
       " \"#Kyle Parker#Kyle Parker\\nKyle James Parker (born September 30, 1989) is an American professional baseball left fielder who is currently a free agent.\\nParker was highly regarded during his prep career as both a baseball and football player and chose to attend Clemson University to play both sports.\\nAfter redshirting during his freshman season, Parker spent the 2009 and 2010 seasons as the starting quarterback for the Clemson Tigers football team.\\nHe was also an integral part of the school's baseball team.\\nParker was drafted by the Colorado Rockies as the 26th overall pick in the 2010 Major League Baseball Draft and made his Major League Baseball (MLB) debut with them in 2014.\",\n",
       " \"#Archery at the Commonwealth Games#Archery at the Commonwealth Games\\nArchery is one of the optional sports at the quadrennial Commonwealth Games competition.\\nIt has been a Commonwealth Games sport since 1982, but has only featured twice in the competition's history; at the 1982 Commonwealth Games and at the 2010 Commonwealth Games.\\nIt is an optional sport and may or may not be included in the sporting programme of each edition of the Games.\\nThe host country of the games decides whether to include it.\",\n",
       " \"#Bobbie Kilberg#Bobbie Kilberg\\nBobbie Kilberg (born Barbara Greene; October 25, 1944) is a Republican operative who has worked for Presidents Richard Nixon, Gerald Ford, George H.\\nW.\\nBush, and George W.\\nBush.\\nKilberg is currently the President and CEO of the Northern Virginia Technology Council and has been since 1998.\\nShe was briefly an attorney with the Washington law firm of Arnold & Porter from 1971 to 1973.\\nHer White House experiences include serving on the staff of President Richard Nixon's Domestic Policy Council, serving under President Gerald Ford as Associate Counsel and serving for President George H.\\nW.\\nBush as Deputy Assistant to the President for Public Liaison and as Director of the White House Office of Intergovernmental Affairs.\",\n",
       " '#Reginald Engelbach#Reginald Engelbach\\nReginald Engelbach (July 9, 1888 – February 26, 1946) was an English Egyptologist and engineer.\\nHe is mainly known for his works in the Egyptian Museum of Cairo, above all the compilation of a register of artifacts belonging of the museum.',\n",
       " '#Émile Brugsch#Émile Brugsch\\nÉmile Brugsch (February 24, 1842 in Berlin, Germany – January 14, 1930 in Nice, France) was a German-born Egyptologist whose career spanned the late 19th and early 20th centuries.\\nHe is known as the official who \"evacuated\" the mummies from the Deir el-Bahri Cache in 1881, and as being assistant curator of the Bulaq Museum - the core element of what is today\\'s Egyptian Museum.\\nHe was the brother of the Egyptologist Heinrich Karl Brugsch.']"
      ]
     },
     "execution_count": 15,
     "metadata": {},
     "output_type": "execute_result"
    }
   ],
   "source": [
    "traceLog[2]['rerank docs']"
   ]
  },
  {
   "cell_type": "code",
   "execution_count": 107,
   "metadata": {},
   "outputs": [],
   "source": [
    "import re"
   ]
  },
  {
   "cell_type": "code",
   "execution_count": 161,
   "metadata": {},
   "outputs": [],
   "source": [
    "# k = 10\n",
    "# 先不计算recall@k，先计算recall，以及precision\n",
    "recall_error = []\n",
    "recall_k = []\n",
    "rouge_score = []\n",
    "precision_k = []\n",
    "match_type_all = []\n",
    "\n",
    "for item in data_process:\n",
    "    ctx = {}\n",
    "    for line in item['context']:\n",
    "        title = line[0]\n",
    "        ctx[title] = line[1]\n",
    "    \n",
    "    # 真实相关的文档\n",
    "    ground_truth_title = []\n",
    "    # ground_truth = []\n",
    "    for line in item['supporting_facts']:\n",
    "        ground_truth_title.append(line[0].strip())\n",
    "        # ground_truth.append(ctx[line[0]][line[1]])\n",
    "    \n",
    "    \n",
    "    # 计算每个问题，在三次迭代中，每个子问题的匹配类型\n",
    "    match_temp = [[],[],[]]\n",
    "    \n",
    "    for it, trace in enumerate(item['traceLog']):\n",
    "        for sub_question in trace['sub question']:\n",
    "            match_type = sub_question['match_type']\n",
    "            match_temp[it].append(match_type)\n",
    "    match_type_all.append(match_temp)\n",
    "    \n",
    "\n",
    "    # 处理traceLog，得到召回的文档\n",
    "    recall = []\n",
    "    recall_title = []\n",
    "    traceLog = item['traceLog']\n",
    "\n",
    "    # # 三次迭代全部放进去\n",
    "    for trace in traceLog:\n",
    "        for sub_query in trace['sub question']:\n",
    "            for doc in sub_query['doc_retrieved']:\n",
    "                pattern = r'#(.*?)#'\n",
    "                title = re.findall(pattern, doc.split(\"\\n\")[0])\n",
    "                recall_title.append(title[0].strip())\n",
    "    #        \n",
    "        # for doc in trace['rerank docs']:\n",
    "        #     recall.extend(doc.split(\"\\n\")[1:])\n",
    "\n",
    "        #     pattern = r'#(.*?)#'\n",
    "        #     title = re.findall(pattern, doc.split(\"\\n\")[0])\n",
    "        #     recall_title.append(title[0].strip())\n",
    "                    \n",
    "    # # 每一次召回有多个子问题\n",
    "    # for doc in traceLog[-1]['rerank docs']:\n",
    "    #     recall.append(doc.split(\"\\n\")[1:]) \n",
    "     \n",
    "    # 计算召回率\n",
    "    n = 0\n",
    "    for title in ground_truth_title:\n",
    "        if title in recall_title:\n",
    "            n += 1\n",
    "    # for true_doc in ground_truth:\n",
    "    #     if true_doc in recall:\n",
    "    #         n += 1\n",
    "        # for docs in recall:\n",
    "        #     if true_doc in docs:\n",
    "        #         n += 1\n",
    "        #         break\n",
    "    if n == 0:\n",
    "        recall_error.append(item)\n",
    "    \n",
    "    # 召回率\n",
    "    recall_k.append(n/len(ground_truth_title))\n",
    "    # 准确率\n",
    "    precision_k.append(n/len(recall_title))\n",
    "    \n",
    "\n",
    "    # 计算生成的指标\n",
    "    question = item['question']\n",
    "    predicted_answer = item['prediction']\n",
    "    true_answer = item['answer']\n",
    "    from rouge_score import rouge_scorer\n",
    "\n",
    "    scorer = rouge_scorer.RougeScorer(['rouge1', 'rouge2', 'rougeL'], use_stemmer=True)\n",
    "    scores = scorer.score(true_answer, predicted_answer)\n",
    "    \n",
    "    rouge_score.append([scores[key].fmeasure for key in scores])\n",
    "    "
   ]
  },
  {
   "cell_type": "code",
   "execution_count": 164,
   "metadata": {},
   "outputs": [
    {
     "data": {
      "text/plain": [
       "884"
      ]
     },
     "execution_count": 164,
     "metadata": {},
     "output_type": "execute_result"
    }
   ],
   "source": [
    "len(recall_error)"
   ]
  },
  {
   "cell_type": "code",
   "execution_count": null,
   "metadata": {},
   "outputs": [],
   "source": []
  },
  {
   "cell_type": "code",
   "execution_count": 128,
   "metadata": {},
   "outputs": [],
   "source": [
    "s = []"
   ]
  },
  {
   "cell_type": "code",
   "execution_count": 129,
   "metadata": {},
   "outputs": [],
   "source": [
    "for i,k in enumerate(recall_k):\n",
    "    if(k - 0.0 < 0.0001):\n",
    "        s.append(i)"
   ]
  },
  {
   "cell_type": "code",
   "execution_count": null,
   "metadata": {},
   "outputs": [],
   "source": []
  },
  {
   "cell_type": "code",
   "execution_count": 24,
   "metadata": {},
   "outputs": [
    {
     "name": "stdout",
     "output_type": "stream",
     "text": [
      "rouge1_avg:  0.1438322450012782\n",
      "rouge2_avg:  0.06429618152687239\n",
      "rougeL_avg:  0.1421830048569187\n",
      "zero_sum:  589\n"
     ]
    }
   ],
   "source": [
    "rouge1_sum = 0\n",
    "rouge2_sum = 0\n",
    "rougeL_sum = 0\n",
    "zero_sum = 0\n",
    "for scores in rouge_score:\n",
    "    if scores[0] == 0:\n",
    "        zero_sum += 1\n",
    "    rouge1_sum += scores[0]\n",
    "    rouge2_sum += scores[1]\n",
    "    rougeL_sum += scores[2]\n",
    "\n",
    "rouge1_avg = rouge1_sum/len(rouge_score)\n",
    "rouge2_avg = rouge2_sum/len(rouge_score)\n",
    "rougeL_avg = rougeL_sum/len(rouge_score)\n",
    "print(\"rouge1_avg: \",rouge1_avg)\n",
    "print(\"rouge2_avg: \",rouge2_avg)\n",
    "print(\"rougeL_avg: \",rougeL_avg)\n",
    "print(\"zero_sum: \",zero_sum)"
   ]
  },
  {
   "cell_type": "code",
   "execution_count": 198,
   "metadata": {},
   "outputs": [],
   "source": [
    "for query in match_type_all:\n",
    "    for k in query:\n",
    "        for i in k:\n",
    "            if(i != 'chunk'):\n",
    "                print(i)"
   ]
  },
  {
   "cell_type": "code",
   "execution_count": 151,
   "metadata": {},
   "outputs": [],
   "source": [
    "count_recall0 = 0\n",
    "for r in recall_k:\n",
    "    if r == 0:\n",
    "        count_recall0 += 1"
   ]
  },
  {
   "cell_type": "code",
   "execution_count": 152,
   "metadata": {},
   "outputs": [
    {
     "data": {
      "text/plain": [
       "884"
      ]
     },
     "execution_count": 152,
     "metadata": {},
     "output_type": "execute_result"
    }
   ],
   "source": [
    "count_recall0 "
   ]
  },
  {
   "cell_type": "code",
   "execution_count": 162,
   "metadata": {},
   "outputs": [
    {
     "data": {
      "text/plain": [
       "0.09183673469387754"
      ]
     },
     "execution_count": 162,
     "metadata": {},
     "output_type": "execute_result"
    }
   ],
   "source": [
    "sum(recall_k) / len(recall_k)\n"
   ]
  },
  {
   "cell_type": "code",
   "execution_count": 163,
   "metadata": {},
   "outputs": [
    {
     "data": {
      "text/plain": [
       "0.0025749915675122572"
      ]
     },
     "execution_count": 163,
     "metadata": {},
     "output_type": "execute_result"
    }
   ],
   "source": [
    "sum(precision_k) / len(precision_k)"
   ]
  },
  {
   "cell_type": "markdown",
   "metadata": {},
   "source": [
    "# 指标"
   ]
  },
  {
   "cell_type": "markdown",
   "metadata": {},
   "source": [
    "## 召回"
   ]
  },
  {
   "cell_type": "markdown",
   "metadata": {},
   "source": [
    "## 生成\n",
    "bleu以及rouge，bleu可以借用nltk库，而rouge可以安装rouge第三方库"
   ]
  },
  {
   "cell_type": "markdown",
   "metadata": {},
   "source": []
  },
  {
   "cell_type": "code",
   "execution_count": 169,
   "metadata": {},
   "outputs": [],
   "source": [
    "a = [1,2,3,4,5]\n"
   ]
  },
  {
   "cell_type": "code",
   "execution_count": null,
   "metadata": {},
   "outputs": [],
   "source": []
  }
 ],
 "metadata": {
  "kernelspec": {
   "display_name": "kag-demo",
   "language": "python",
   "name": "python3"
  },
  "language_info": {
   "codemirror_mode": {
    "name": "ipython",
    "version": 3
   },
   "file_extension": ".py",
   "mimetype": "text/x-python",
   "name": "python",
   "nbconvert_exporter": "python",
   "pygments_lexer": "ipython3",
   "version": "3.10.16"
  }
 },
 "nbformat": 4,
 "nbformat_minor": 2
}
